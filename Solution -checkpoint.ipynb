{
 "cells": [
  {
   "cell_type": "markdown",
   "metadata": {},
   "source": [
    "# Problem Statement:\n",
    "\n",
    "Mavoix Solutions Private Limited offering career opportunity for its various project(s). There are two kind of job profiles are available (a) Web Development and (b) Data Scientist.\n",
    "\n",
    "There are almost 400 candidates applied for these role. Your assignment is to build a Machine Learning model , which will help the management to Identify the potential candidates (good candidate to offer job) for both the roles from the given data. "
   ]
  },
  {
   "cell_type": "code",
   "execution_count": 1,
   "metadata": {},
   "outputs": [
    {
     "data": {
      "text/plain": [
       "'C:\\\\Users\\\\RAM\\\\Desktop'"
      ]
     },
     "execution_count": 1,
     "metadata": {},
     "output_type": "execute_result"
    }
   ],
   "source": [
    "import os\n",
    "os.getcwd()  #Checking working directory"
   ]
  },
  {
   "cell_type": "markdown",
   "metadata": {},
   "source": [
    "# Import libraries"
   ]
  },
  {
   "cell_type": "code",
   "execution_count": 2,
   "metadata": {},
   "outputs": [],
   "source": [
    "import pandas as pd\n",
    "import numpy as np\n",
    "import matplotlib.pyplot as plt\n",
    "import seaborn as sns\n",
    "%matplotlib inline\n",
    "from sklearn.cluster import KMeans\n",
    "from sklearn.preprocessing import StandardScaler"
   ]
  },
  {
   "cell_type": "markdown",
   "metadata": {},
   "source": [
    "# Loading Data"
   ]
  },
  {
   "cell_type": "code",
   "execution_count": 3,
   "metadata": {},
   "outputs": [],
   "source": [
    "df=pd.read_csv(\"C:\\\\Users\\\\RAM\\\\Desktop\\\\mavoix_ml_sample_dataset.csv\",engine='python')"
   ]
  },
  {
   "cell_type": "code",
   "execution_count": 4,
   "metadata": {},
   "outputs": [
    {
     "data": {
      "text/html": [
       "<div>\n",
       "<style scoped>\n",
       "    .dataframe tbody tr th:only-of-type {\n",
       "        vertical-align: middle;\n",
       "    }\n",
       "\n",
       "    .dataframe tbody tr th {\n",
       "        vertical-align: top;\n",
       "    }\n",
       "\n",
       "    .dataframe thead th {\n",
       "        text-align: right;\n",
       "    }\n",
       "</style>\n",
       "<table border=\"1\" class=\"dataframe\">\n",
       "  <thead>\n",
       "    <tr style=\"text-align: right;\">\n",
       "      <th></th>\n",
       "      <th>Application_ID</th>\n",
       "      <th>Current City</th>\n",
       "      <th>Python (out of 3)</th>\n",
       "      <th>R Programming (out of 3)</th>\n",
       "      <th>Deep Learning (out of 3)</th>\n",
       "      <th>PHP (out of 3)</th>\n",
       "      <th>MySQL (out of 3)</th>\n",
       "      <th>HTML (out of 3)</th>\n",
       "      <th>CSS (out of 3)</th>\n",
       "      <th>JavaScript (out of 3)</th>\n",
       "      <th>...</th>\n",
       "      <th>Node.js (out of 3)</th>\n",
       "      <th>ReactJS (out of 3)</th>\n",
       "      <th>Other skills</th>\n",
       "      <th>Degree</th>\n",
       "      <th>Stream</th>\n",
       "      <th>Current Year Of Graduation</th>\n",
       "      <th>Performance_PG</th>\n",
       "      <th>Performance_UG</th>\n",
       "      <th>Performance_12</th>\n",
       "      <th>Performance_10</th>\n",
       "    </tr>\n",
       "  </thead>\n",
       "  <tbody>\n",
       "    <tr>\n",
       "      <th>0</th>\n",
       "      <td>ML0001</td>\n",
       "      <td>Bangalore</td>\n",
       "      <td>0</td>\n",
       "      <td>2</td>\n",
       "      <td>0</td>\n",
       "      <td>2</td>\n",
       "      <td>0</td>\n",
       "      <td>2</td>\n",
       "      <td>3</td>\n",
       "      <td>2</td>\n",
       "      <td>...</td>\n",
       "      <td>0</td>\n",
       "      <td>0</td>\n",
       "      <td>R Programming</td>\n",
       "      <td>Bachelor of Science (B.Sc)</td>\n",
       "      <td>Mathematics</td>\n",
       "      <td>2017</td>\n",
       "      <td>NaN</td>\n",
       "      <td>NaN</td>\n",
       "      <td>NaN</td>\n",
       "      <td>NaN</td>\n",
       "    </tr>\n",
       "    <tr>\n",
       "      <th>1</th>\n",
       "      <td>ML0002</td>\n",
       "      <td>Bangalore</td>\n",
       "      <td>2</td>\n",
       "      <td>0</td>\n",
       "      <td>0</td>\n",
       "      <td>2</td>\n",
       "      <td>2</td>\n",
       "      <td>2</td>\n",
       "      <td>2</td>\n",
       "      <td>2</td>\n",
       "      <td>...</td>\n",
       "      <td>0</td>\n",
       "      <td>0</td>\n",
       "      <td>Data Science, Machine Learning, Neural Network...</td>\n",
       "      <td>Bachelor of Technology (B.Tech)</td>\n",
       "      <td>Computer Science &amp; Engineering</td>\n",
       "      <td>2019</td>\n",
       "      <td>NaN</td>\n",
       "      <td>85.50/100</td>\n",
       "      <td>92.20/92.20</td>\n",
       "      <td>96.60/96.60</td>\n",
       "    </tr>\n",
       "  </tbody>\n",
       "</table>\n",
       "<p>2 rows × 24 columns</p>\n",
       "</div>"
      ],
      "text/plain": [
       "  Application_ID Current City  Python (out of 3)  R Programming (out of 3)  \\\n",
       "0         ML0001    Bangalore                  0                         2   \n",
       "1         ML0002    Bangalore                  2                         0   \n",
       "\n",
       "   Deep Learning (out of 3)  PHP (out of 3)  MySQL (out of 3)  \\\n",
       "0                         0               2                 0   \n",
       "1                         0               2                 2   \n",
       "\n",
       "   HTML (out of 3)  CSS (out of 3)  JavaScript (out of 3)  ...  \\\n",
       "0                2               3                      2  ...   \n",
       "1                2               2                      2  ...   \n",
       "\n",
       "   Node.js (out of 3)  ReactJS (out of 3)  \\\n",
       "0                   0                   0   \n",
       "1                   0                   0   \n",
       "\n",
       "                                        Other skills  \\\n",
       "0                                      R Programming   \n",
       "1  Data Science, Machine Learning, Neural Network...   \n",
       "\n",
       "                            Degree                          Stream  \\\n",
       "0       Bachelor of Science (B.Sc)                     Mathematics   \n",
       "1  Bachelor of Technology (B.Tech)  Computer Science & Engineering   \n",
       "\n",
       "   Current Year Of Graduation Performance_PG Performance_UG Performance_12  \\\n",
       "0                        2017            NaN            NaN            NaN   \n",
       "1                        2019            NaN      85.50/100    92.20/92.20   \n",
       "\n",
       "   Performance_10  \n",
       "0             NaN  \n",
       "1     96.60/96.60  \n",
       "\n",
       "[2 rows x 24 columns]"
      ]
     },
     "execution_count": 4,
     "metadata": {},
     "output_type": "execute_result"
    }
   ],
   "source": [
    "df.head(2) #checking dimensionals"
   ]
  },
  {
   "cell_type": "markdown",
   "metadata": {},
   "source": [
    "# Checking Null Values"
   ]
  },
  {
   "cell_type": "code",
   "execution_count": 5,
   "metadata": {},
   "outputs": [
    {
     "data": {
      "text/plain": [
       "Application_ID                  0\n",
       "Current City                    0\n",
       "Python (out of 3)               0\n",
       "R Programming (out of 3)        0\n",
       "Deep Learning (out of 3)        0\n",
       "PHP (out of 3)                  0\n",
       "MySQL (out of 3)                0\n",
       "HTML (out of 3)                 0\n",
       "CSS (out of 3)                  0\n",
       "JavaScript (out of 3)           0\n",
       "Unnamed: 10                   392\n",
       "AJAX (out of 3)                 0\n",
       "Bootstrap (out of 3)            0\n",
       "MongoDB (out of 3)              0\n",
       "Node.js (out of 3)              0\n",
       "ReactJS (out of 3)              0\n",
       "Other skills                   14\n",
       "Degree                         12\n",
       "Stream                         18\n",
       "Current Year Of Graduation      0\n",
       "Performance_PG                289\n",
       "Performance_UG                 54\n",
       "Performance_12                163\n",
       "Performance_10                177\n",
       "dtype: int64"
      ]
     },
     "execution_count": 5,
     "metadata": {},
     "output_type": "execute_result"
    }
   ],
   "source": [
    "df.isnull().sum()"
   ]
  },
  {
   "cell_type": "code",
   "execution_count": 6,
   "metadata": {},
   "outputs": [],
   "source": [
    "df1=df.drop(['Current City','Unnamed: 10','Other skills','Performance_PG','Performance_12','Performance_10'],axis=1) #Taking required Features"
   ]
  },
  {
   "cell_type": "code",
   "execution_count": 7,
   "metadata": {},
   "outputs": [
    {
     "data": {
      "text/plain": [
       "(392, 18)"
      ]
     },
     "execution_count": 7,
     "metadata": {},
     "output_type": "execute_result"
    }
   ],
   "source": [
    "df1.shape #checking dimensional"
   ]
  },
  {
   "cell_type": "code",
   "execution_count": 8,
   "metadata": {},
   "outputs": [
    {
     "data": {
      "text/plain": [
       "Index(['Application_ID', 'Python (out of 3)', 'R Programming (out of 3)',\n",
       "       'Deep Learning (out of 3)', 'PHP (out of 3)', 'MySQL (out of 3)',\n",
       "       'HTML (out of 3)', 'CSS (out of 3)', 'JavaScript (out of 3)',\n",
       "       'AJAX (out of 3)', 'Bootstrap (out of 3)', 'MongoDB (out of 3)',\n",
       "       'Node.js (out of 3)', 'ReactJS (out of 3)', 'Degree', 'Stream',\n",
       "       'Current Year Of Graduation', 'Performance_UG'],\n",
       "      dtype='object')"
      ]
     },
     "execution_count": 8,
     "metadata": {},
     "output_type": "execute_result"
    }
   ],
   "source": [
    "df1.columns # checking all column names "
   ]
  },
  {
   "cell_type": "code",
   "execution_count": 9,
   "metadata": {},
   "outputs": [
    {
     "data": {
      "text/plain": [
       "Application_ID                object\n",
       "Python (out of 3)              int64\n",
       "R Programming (out of 3)       int64\n",
       "Deep Learning (out of 3)       int64\n",
       "PHP (out of 3)                 int64\n",
       "MySQL (out of 3)               int64\n",
       "HTML (out of 3)                int64\n",
       "CSS (out of 3)                 int64\n",
       "JavaScript (out of 3)          int64\n",
       "AJAX (out of 3)                int64\n",
       "Bootstrap (out of 3)           int64\n",
       "MongoDB (out of 3)             int64\n",
       "Node.js (out of 3)             int64\n",
       "ReactJS (out of 3)             int64\n",
       "Degree                        object\n",
       "Stream                        object\n",
       "Current Year Of Graduation     int64\n",
       "Performance_UG                object\n",
       "dtype: object"
      ]
     },
     "execution_count": 9,
     "metadata": {},
     "output_type": "execute_result"
    }
   ],
   "source": [
    "df1.dtypes #checking the data types of features"
   ]
  },
  {
   "cell_type": "markdown",
   "metadata": {},
   "source": [
    "# Counting  Unique Values"
   ]
  },
  {
   "cell_type": "code",
   "execution_count": 10,
   "metadata": {},
   "outputs": [
    {
     "data": {
      "text/plain": [
       "0    292\n",
       "2     63\n",
       "1     28\n",
       "3      9\n",
       "Name: Deep Learning (out of 3), dtype: int64"
      ]
     },
     "execution_count": 10,
     "metadata": {},
     "output_type": "execute_result"
    }
   ],
   "source": [
    "df1['Deep Learning (out of 3)'].value_counts() #counting  unique values"
   ]
  },
  {
   "cell_type": "code",
   "execution_count": 11,
   "metadata": {},
   "outputs": [
    {
     "data": {
      "text/plain": [
       "0    272\n",
       "2     82\n",
       "1     28\n",
       "3     10\n",
       "Name: R Programming (out of 3), dtype: int64"
      ]
     },
     "execution_count": 11,
     "metadata": {},
     "output_type": "execute_result"
    }
   ],
   "source": [
    "df1['R Programming (out of 3)'].value_counts() ##counting  unique values"
   ]
  },
  {
   "cell_type": "code",
   "execution_count": 12,
   "metadata": {},
   "outputs": [
    {
     "data": {
      "text/plain": [
       "0    292\n",
       "2     63\n",
       "1     28\n",
       "3      9\n",
       "Name: Deep Learning (out of 3), dtype: int64"
      ]
     },
     "execution_count": 12,
     "metadata": {},
     "output_type": "execute_result"
    }
   ],
   "source": [
    "df1['Deep Learning (out of 3)'].value_counts() ##counting  unique values"
   ]
  },
  {
   "cell_type": "code",
   "execution_count": 13,
   "metadata": {},
   "outputs": [
    {
     "data": {
      "text/plain": [
       "0    258\n",
       "2     86\n",
       "1     38\n",
       "3     10\n",
       "Name: PHP (out of 3), dtype: int64"
      ]
     },
     "execution_count": 13,
     "metadata": {},
     "output_type": "execute_result"
    }
   ],
   "source": [
    "df1['PHP (out of 3)'].value_counts() #counting  unique values"
   ]
  },
  {
   "cell_type": "code",
   "execution_count": 14,
   "metadata": {},
   "outputs": [
    {
     "data": {
      "text/plain": [
       "0    312\n",
       "2     54\n",
       "1     14\n",
       "3     12\n",
       "Name: MySQL (out of 3), dtype: int64"
      ]
     },
     "execution_count": 14,
     "metadata": {},
     "output_type": "execute_result"
    }
   ],
   "source": [
    "df1['MySQL (out of 3)'].value_counts() #counting  unique values"
   ]
  },
  {
   "cell_type": "markdown",
   "metadata": {},
   "source": [
    "# Handling the Null Values"
   ]
  },
  {
   "cell_type": "code",
   "execution_count": 15,
   "metadata": {},
   "outputs": [
    {
     "data": {
      "text/plain": [
       "Bachelor of Technology (B.Tech)                          110\n",
       "Bachelor of Engineering (B.E)                             84\n",
       "Master of Computer Applications (MCA)                     70\n",
       "B.Tech (Hons.)                                            25\n",
       "Master of Technology (M.Tech)                             19\n",
       "Master of Science (M.Sc)                                  14\n",
       "Bachelor of Computer Applications (BCA)                   10\n",
       "Post Graduate Programme (PGP)                              8\n",
       "Bachelor of Science (B.Sc)                                 5\n",
       "PG Diploma in Data Science                                 5\n",
       "Integrated M.Sc.                                           5\n",
       "MBA                                                        2\n",
       "Post Graduate Diploma in Management (P.G.D.M.)             2\n",
       "Bachelor of Commerce (B.Com)                               2\n",
       "Integrated B.Tech & M.Tech                                 2\n",
       "Integrated B.Tech                                          2\n",
       "Bachelor of Computer Science (B.C.S.)                      1\n",
       "Executive MBA                                              1\n",
       "Post Graduate Diploma in Big Data Analytics (PG-DBDA)      1\n",
       "Bachelor of Engineering (B.E) (Hons.)                      1\n",
       "Post Graduate Diploma                                      1\n",
       "Bachelor of Arts (B.A.) (Hons.)                            1\n",
       "Master of Science (M.Sc) (Hons.)                           1\n",
       "Bachelor of Business Management (B.B.M.)                   1\n",
       "Bachelor of Business Administration (B.B.A.)               1\n",
       "Master of Science (M.S.)                                   1\n",
       "Post Graduate Program in Business Analytics                1\n",
       "B.Com. Professional                                        1\n",
       "Integrated B.E & M.Tech                                    1\n",
       "Integrated M.Tech                                          1\n",
       "Bachelor of Commerce (B.Com) (Hons.)                       1\n",
       "Name: Degree, dtype: int64"
      ]
     },
     "execution_count": 15,
     "metadata": {},
     "output_type": "execute_result"
    }
   ],
   "source": [
    "df['Degree'].value_counts()"
   ]
  },
  {
   "cell_type": "code",
   "execution_count": 16,
   "metadata": {},
   "outputs": [],
   "source": [
    "df1['Degree'].fillna('Bachelor of Technology (B.Tech)',inplace=True) "
   ]
  },
  {
   "cell_type": "code",
   "execution_count": null,
   "metadata": {},
   "outputs": [],
   "source": []
  },
  {
   "cell_type": "code",
   "execution_count": null,
   "metadata": {},
   "outputs": [],
   "source": []
  },
  {
   "cell_type": "markdown",
   "metadata": {},
   "source": [
    "# Dimensionality Reduction"
   ]
  },
  {
   "cell_type": "code",
   "execution_count": 17,
   "metadata": {},
   "outputs": [],
   "source": [
    "stas=df1['Degree'].value_counts() #counting  unique values"
   ]
  },
  {
   "cell_type": "code",
   "execution_count": 18,
   "metadata": {},
   "outputs": [],
   "source": [
    "less=stas[stas<8] \n",
    "df1['Degree']=df1['Degree'].apply(lambda x:'other_Branch' if x in less else x)"
   ]
  },
  {
   "cell_type": "markdown",
   "metadata": {},
   "source": [
    "Any Degree having less than 8 data points should be tagged as \"other_Branch\" Branch. This way number of categories can be reduced by huge amount. Later on when we do one hot encoding, it will help us with having fewer dummy columns"
   ]
  },
  {
   "cell_type": "code",
   "execution_count": 19,
   "metadata": {},
   "outputs": [
    {
     "data": {
      "text/plain": [
       "Bachelor of Technology (B.Tech)            122\n",
       "Bachelor of Engineering (B.E)               84\n",
       "Master of Computer Applications (MCA)       70\n",
       "other_Branch                                40\n",
       "B.Tech (Hons.)                              25\n",
       "Master of Technology (M.Tech)               19\n",
       "Master of Science (M.Sc)                    14\n",
       "Bachelor of Computer Applications (BCA)     10\n",
       "Post Graduate Programme (PGP)                8\n",
       "Name: Degree, dtype: int64"
      ]
     },
     "execution_count": 19,
     "metadata": {},
     "output_type": "execute_result"
    }
   ],
   "source": [
    "df1['Degree'].value_counts()"
   ]
  },
  {
   "cell_type": "code",
   "execution_count": 20,
   "metadata": {},
   "outputs": [
    {
     "data": {
      "text/plain": [
       "Bachelor of Technology (B.Tech)            122\n",
       "Bachelor of Engineering (B.E)               84\n",
       "Master of Computer Applications (MCA)       70\n",
       "other_Branch                                40\n",
       "B.Tech (Hons.)                              25\n",
       "Master of Technology (M.Tech)               19\n",
       "Master of Science (M.Sc)                    14\n",
       "Bachelor of Computer Applications (BCA)     10\n",
       "Post Graduate Programme (PGP)                8\n",
       "Name: Degree, dtype: int64"
      ]
     },
     "execution_count": 20,
     "metadata": {},
     "output_type": "execute_result"
    }
   ],
   "source": [
    "df1.Degree.value_counts()"
   ]
  },
  {
   "cell_type": "code",
   "execution_count": 21,
   "metadata": {},
   "outputs": [],
   "source": [
    "sta=df1['Stream'].value_counts()"
   ]
  },
  {
   "cell_type": "code",
   "execution_count": 22,
   "metadata": {},
   "outputs": [],
   "source": [
    "less=sta[sta<3]"
   ]
  },
  {
   "cell_type": "code",
   "execution_count": 23,
   "metadata": {},
   "outputs": [
    {
     "data": {
      "text/plain": [
       "78"
      ]
     },
     "execution_count": 23,
     "metadata": {},
     "output_type": "execute_result"
    }
   ],
   "source": [
    "len(sta)"
   ]
  },
  {
   "cell_type": "code",
   "execution_count": 24,
   "metadata": {},
   "outputs": [
    {
     "data": {
      "text/plain": [
       "57"
      ]
     },
     "execution_count": 24,
     "metadata": {},
     "output_type": "execute_result"
    }
   ],
   "source": [
    "len(less)"
   ]
  },
  {
   "cell_type": "code",
   "execution_count": 25,
   "metadata": {},
   "outputs": [],
   "source": [
    "df1['Stream']=df1['Stream'].apply(lambda x:'Others' if x in less else x)"
   ]
  },
  {
   "cell_type": "raw",
   "metadata": {},
   "source": [
    "Any Stream having less than 3 data points should be tagged as \"others\" stream. This way number of categories can be reduced by huge amount. Later on when we do one hot encoding, it will help us with having fewer dummy columns"
   ]
  },
  {
   "cell_type": "code",
   "execution_count": 26,
   "metadata": {},
   "outputs": [
    {
     "data": {
      "text/plain": [
       "Others                                                 67\n",
       "Computer  Science                                      64\n",
       "Electronics and Communication                          46\n",
       "Computer Science & Engineering                         45\n",
       "Computer Application                                   35\n",
       "Information Technology                                 20\n",
       "Mechanical Engineering                                 15\n",
       "computer science                                       11\n",
       "Data Science                                           10\n",
       "Electronics and Telecommunication Engineering (ETE)     8\n",
       "Electrical and Electronics Engineering                  7\n",
       "MCA                                                     6\n",
       "Mathematics                                             6\n",
       "IT                                                      5\n",
       "Data Analytics                                          5\n",
       "Business Analytics                                      4\n",
       "cs                                                      4\n",
       "Information Science                                     4\n",
       "Artificial Intelligence                                 3\n",
       "Statistics                                              3\n",
       "Civil Engineering                                       3\n",
       "Information Systems                                     3\n",
       "Name: Stream, dtype: int64"
      ]
     },
     "execution_count": 26,
     "metadata": {},
     "output_type": "execute_result"
    }
   ],
   "source": [
    "df1['Stream'].value_counts()"
   ]
  },
  {
   "cell_type": "markdown",
   "metadata": {},
   "source": [
    "# Data Manipulation"
   ]
  },
  {
   "cell_type": "code",
   "execution_count": 27,
   "metadata": {},
   "outputs": [],
   "source": [
    "df1['Stream'].replace({'Computer  Science':'CS','Computer Science & Engineering':'CS','computer science':'CS','Others':'Others_Stream','cs':'CS','Information Technology':'IT','Information Science':'IT','Information Systems':'IT' },inplace=True)"
   ]
  },
  {
   "cell_type": "code",
   "execution_count": 28,
   "metadata": {},
   "outputs": [],
   "source": [
    "df1['Stream'].fillna('CS',inplace=True)"
   ]
  },
  {
   "cell_type": "code",
   "execution_count": 29,
   "metadata": {},
   "outputs": [
    {
     "data": {
      "text/plain": [
       "0"
      ]
     },
     "execution_count": 29,
     "metadata": {},
     "output_type": "execute_result"
    }
   ],
   "source": [
    "df1['Stream'].isnull().sum()"
   ]
  },
  {
   "cell_type": "code",
   "execution_count": 30,
   "metadata": {},
   "outputs": [
    {
     "data": {
      "text/plain": [
       "Application_ID                 0\n",
       "Python (out of 3)              0\n",
       "R Programming (out of 3)       0\n",
       "Deep Learning (out of 3)       0\n",
       "PHP (out of 3)                 0\n",
       "MySQL (out of 3)               0\n",
       "HTML (out of 3)                0\n",
       "CSS (out of 3)                 0\n",
       "JavaScript (out of 3)          0\n",
       "AJAX (out of 3)                0\n",
       "Bootstrap (out of 3)           0\n",
       "MongoDB (out of 3)             0\n",
       "Node.js (out of 3)             0\n",
       "ReactJS (out of 3)             0\n",
       "Degree                         0\n",
       "Stream                         0\n",
       "Current Year Of Graduation     0\n",
       "Performance_UG                54\n",
       "dtype: int64"
      ]
     },
     "execution_count": 30,
     "metadata": {},
     "output_type": "execute_result"
    }
   ],
   "source": [
    "df1.isnull().sum()"
   ]
  },
  {
   "cell_type": "code",
   "execution_count": 31,
   "metadata": {},
   "outputs": [],
   "source": [
    "df1['Performance_UG'].fillna('70.00/100',inplace=True)"
   ]
  },
  {
   "cell_type": "code",
   "execution_count": 32,
   "metadata": {},
   "outputs": [],
   "source": [
    "def is_float(x):\n",
    "    try:\n",
    "        return float(x)\n",
    "    except:\n",
    "        return False\n",
    "    return True"
   ]
  },
  {
   "cell_type": "code",
   "execution_count": 33,
   "metadata": {},
   "outputs": [
    {
     "data": {
      "text/html": [
       "<div>\n",
       "<style scoped>\n",
       "    .dataframe tbody tr th:only-of-type {\n",
       "        vertical-align: middle;\n",
       "    }\n",
       "\n",
       "    .dataframe tbody tr th {\n",
       "        vertical-align: top;\n",
       "    }\n",
       "\n",
       "    .dataframe thead th {\n",
       "        text-align: right;\n",
       "    }\n",
       "</style>\n",
       "<table border=\"1\" class=\"dataframe\">\n",
       "  <thead>\n",
       "    <tr style=\"text-align: right;\">\n",
       "      <th></th>\n",
       "      <th>Application_ID</th>\n",
       "      <th>Python (out of 3)</th>\n",
       "      <th>R Programming (out of 3)</th>\n",
       "      <th>Deep Learning (out of 3)</th>\n",
       "      <th>PHP (out of 3)</th>\n",
       "      <th>MySQL (out of 3)</th>\n",
       "      <th>HTML (out of 3)</th>\n",
       "      <th>CSS (out of 3)</th>\n",
       "      <th>JavaScript (out of 3)</th>\n",
       "      <th>AJAX (out of 3)</th>\n",
       "      <th>Bootstrap (out of 3)</th>\n",
       "      <th>MongoDB (out of 3)</th>\n",
       "      <th>Node.js (out of 3)</th>\n",
       "      <th>ReactJS (out of 3)</th>\n",
       "      <th>Degree</th>\n",
       "      <th>Stream</th>\n",
       "      <th>Current Year Of Graduation</th>\n",
       "      <th>Performance_UG</th>\n",
       "    </tr>\n",
       "  </thead>\n",
       "  <tbody>\n",
       "    <tr>\n",
       "      <th>0</th>\n",
       "      <td>ML0001</td>\n",
       "      <td>0</td>\n",
       "      <td>2</td>\n",
       "      <td>0</td>\n",
       "      <td>2</td>\n",
       "      <td>0</td>\n",
       "      <td>2</td>\n",
       "      <td>3</td>\n",
       "      <td>2</td>\n",
       "      <td>0</td>\n",
       "      <td>2</td>\n",
       "      <td>0</td>\n",
       "      <td>0</td>\n",
       "      <td>0</td>\n",
       "      <td>other_Branch</td>\n",
       "      <td>Mathematics</td>\n",
       "      <td>2017</td>\n",
       "      <td>70.00/100</td>\n",
       "    </tr>\n",
       "    <tr>\n",
       "      <th>1</th>\n",
       "      <td>ML0002</td>\n",
       "      <td>2</td>\n",
       "      <td>0</td>\n",
       "      <td>0</td>\n",
       "      <td>2</td>\n",
       "      <td>2</td>\n",
       "      <td>2</td>\n",
       "      <td>2</td>\n",
       "      <td>2</td>\n",
       "      <td>0</td>\n",
       "      <td>0</td>\n",
       "      <td>0</td>\n",
       "      <td>0</td>\n",
       "      <td>0</td>\n",
       "      <td>Bachelor of Technology (B.Tech)</td>\n",
       "      <td>CS</td>\n",
       "      <td>2019</td>\n",
       "      <td>85.50/100</td>\n",
       "    </tr>\n",
       "    <tr>\n",
       "      <th>2</th>\n",
       "      <td>ML0003</td>\n",
       "      <td>3</td>\n",
       "      <td>0</td>\n",
       "      <td>1</td>\n",
       "      <td>2</td>\n",
       "      <td>2</td>\n",
       "      <td>2</td>\n",
       "      <td>0</td>\n",
       "      <td>2</td>\n",
       "      <td>0</td>\n",
       "      <td>0</td>\n",
       "      <td>0</td>\n",
       "      <td>0</td>\n",
       "      <td>0</td>\n",
       "      <td>Master of Science (M.Sc)</td>\n",
       "      <td>CS</td>\n",
       "      <td>2018</td>\n",
       "      <td>70.00/100</td>\n",
       "    </tr>\n",
       "    <tr>\n",
       "      <th>3</th>\n",
       "      <td>ML0004</td>\n",
       "      <td>2</td>\n",
       "      <td>0</td>\n",
       "      <td>2</td>\n",
       "      <td>1</td>\n",
       "      <td>0</td>\n",
       "      <td>2</td>\n",
       "      <td>0</td>\n",
       "      <td>0</td>\n",
       "      <td>0</td>\n",
       "      <td>0</td>\n",
       "      <td>0</td>\n",
       "      <td>0</td>\n",
       "      <td>0</td>\n",
       "      <td>Bachelor of Engineering (B.E)</td>\n",
       "      <td>Electronics and Communication</td>\n",
       "      <td>2019</td>\n",
       "      <td>6.86/10</td>\n",
       "    </tr>\n",
       "    <tr>\n",
       "      <th>4</th>\n",
       "      <td>ML0005</td>\n",
       "      <td>2</td>\n",
       "      <td>0</td>\n",
       "      <td>0</td>\n",
       "      <td>2</td>\n",
       "      <td>0</td>\n",
       "      <td>2</td>\n",
       "      <td>1</td>\n",
       "      <td>1</td>\n",
       "      <td>0</td>\n",
       "      <td>0</td>\n",
       "      <td>2</td>\n",
       "      <td>2</td>\n",
       "      <td>2</td>\n",
       "      <td>Bachelor of Technology (B.Tech)</td>\n",
       "      <td>Others_Stream</td>\n",
       "      <td>2018</td>\n",
       "      <td>6.38/10</td>\n",
       "    </tr>\n",
       "  </tbody>\n",
       "</table>\n",
       "</div>"
      ],
      "text/plain": [
       "  Application_ID  Python (out of 3)  R Programming (out of 3)  \\\n",
       "0         ML0001                  0                         2   \n",
       "1         ML0002                  2                         0   \n",
       "2         ML0003                  3                         0   \n",
       "3         ML0004                  2                         0   \n",
       "4         ML0005                  2                         0   \n",
       "\n",
       "   Deep Learning (out of 3)  PHP (out of 3)  MySQL (out of 3)  \\\n",
       "0                         0               2                 0   \n",
       "1                         0               2                 2   \n",
       "2                         1               2                 2   \n",
       "3                         2               1                 0   \n",
       "4                         0               2                 0   \n",
       "\n",
       "   HTML (out of 3)  CSS (out of 3)  JavaScript (out of 3)  AJAX (out of 3)  \\\n",
       "0                2               3                      2                0   \n",
       "1                2               2                      2                0   \n",
       "2                2               0                      2                0   \n",
       "3                2               0                      0                0   \n",
       "4                2               1                      1                0   \n",
       "\n",
       "   Bootstrap (out of 3)  MongoDB (out of 3)  Node.js (out of 3)  \\\n",
       "0                     2                   0                   0   \n",
       "1                     0                   0                   0   \n",
       "2                     0                   0                   0   \n",
       "3                     0                   0                   0   \n",
       "4                     0                   2                   2   \n",
       "\n",
       "   ReactJS (out of 3)                           Degree  \\\n",
       "0                   0                     other_Branch   \n",
       "1                   0  Bachelor of Technology (B.Tech)   \n",
       "2                   0         Master of Science (M.Sc)   \n",
       "3                   0    Bachelor of Engineering (B.E)   \n",
       "4                   2  Bachelor of Technology (B.Tech)   \n",
       "\n",
       "                          Stream  Current Year Of Graduation Performance_UG  \n",
       "0                    Mathematics                        2017      70.00/100  \n",
       "1                             CS                        2019      85.50/100  \n",
       "2                             CS                        2018      70.00/100  \n",
       "3  Electronics and Communication                        2019        6.86/10  \n",
       "4                  Others_Stream                        2018        6.38/10  "
      ]
     },
     "execution_count": 33,
     "metadata": {},
     "output_type": "execute_result"
    }
   ],
   "source": [
    "df1[~df1['Performance_UG'].apply(is_float)].head()"
   ]
  },
  {
   "cell_type": "raw",
   "metadata": {},
   "source": [
    "Above shows that Performance_UG (eg:70.00/100). For such case i have taken of numerator value"
   ]
  },
  {
   "cell_type": "code",
   "execution_count": 34,
   "metadata": {},
   "outputs": [],
   "source": [
    "def con(x):\n",
    "    token=x.split('/')\n",
    "    if len(token) == 2:\n",
    "        return float(token[0])\n",
    "    try:\n",
    "        return float(x)\n",
    "    except:\n",
    "        return None"
   ]
  },
  {
   "cell_type": "code",
   "execution_count": 35,
   "metadata": {},
   "outputs": [
    {
     "data": {
      "text/plain": [
       "0"
      ]
     },
     "execution_count": 35,
     "metadata": {},
     "output_type": "execute_result"
    }
   ],
   "source": [
    "df1['Performance_UG'].isnull().sum()"
   ]
  },
  {
   "cell_type": "code",
   "execution_count": 36,
   "metadata": {},
   "outputs": [],
   "source": [
    "df2=df1.copy()"
   ]
  },
  {
   "cell_type": "code",
   "execution_count": 37,
   "metadata": {},
   "outputs": [],
   "source": [
    "df2['Performance_UG']=df2['Performance_UG'].apply(con)"
   ]
  },
  {
   "cell_type": "code",
   "execution_count": 38,
   "metadata": {},
   "outputs": [
    {
     "data": {
      "text/html": [
       "<div>\n",
       "<style scoped>\n",
       "    .dataframe tbody tr th:only-of-type {\n",
       "        vertical-align: middle;\n",
       "    }\n",
       "\n",
       "    .dataframe tbody tr th {\n",
       "        vertical-align: top;\n",
       "    }\n",
       "\n",
       "    .dataframe thead th {\n",
       "        text-align: right;\n",
       "    }\n",
       "</style>\n",
       "<table border=\"1\" class=\"dataframe\">\n",
       "  <thead>\n",
       "    <tr style=\"text-align: right;\">\n",
       "      <th></th>\n",
       "      <th>Application_ID</th>\n",
       "      <th>Python (out of 3)</th>\n",
       "      <th>R Programming (out of 3)</th>\n",
       "      <th>Deep Learning (out of 3)</th>\n",
       "      <th>PHP (out of 3)</th>\n",
       "      <th>MySQL (out of 3)</th>\n",
       "      <th>HTML (out of 3)</th>\n",
       "      <th>CSS (out of 3)</th>\n",
       "      <th>JavaScript (out of 3)</th>\n",
       "      <th>AJAX (out of 3)</th>\n",
       "      <th>Bootstrap (out of 3)</th>\n",
       "      <th>MongoDB (out of 3)</th>\n",
       "      <th>Node.js (out of 3)</th>\n",
       "      <th>ReactJS (out of 3)</th>\n",
       "      <th>Degree</th>\n",
       "      <th>Stream</th>\n",
       "      <th>Current Year Of Graduation</th>\n",
       "      <th>Performance_UG</th>\n",
       "    </tr>\n",
       "  </thead>\n",
       "  <tbody>\n",
       "    <tr>\n",
       "      <th>0</th>\n",
       "      <td>ML0001</td>\n",
       "      <td>0</td>\n",
       "      <td>2</td>\n",
       "      <td>0</td>\n",
       "      <td>2</td>\n",
       "      <td>0</td>\n",
       "      <td>2</td>\n",
       "      <td>3</td>\n",
       "      <td>2</td>\n",
       "      <td>0</td>\n",
       "      <td>2</td>\n",
       "      <td>0</td>\n",
       "      <td>0</td>\n",
       "      <td>0</td>\n",
       "      <td>other_Branch</td>\n",
       "      <td>Mathematics</td>\n",
       "      <td>2017</td>\n",
       "      <td>70.00</td>\n",
       "    </tr>\n",
       "    <tr>\n",
       "      <th>1</th>\n",
       "      <td>ML0002</td>\n",
       "      <td>2</td>\n",
       "      <td>0</td>\n",
       "      <td>0</td>\n",
       "      <td>2</td>\n",
       "      <td>2</td>\n",
       "      <td>2</td>\n",
       "      <td>2</td>\n",
       "      <td>2</td>\n",
       "      <td>0</td>\n",
       "      <td>0</td>\n",
       "      <td>0</td>\n",
       "      <td>0</td>\n",
       "      <td>0</td>\n",
       "      <td>Bachelor of Technology (B.Tech)</td>\n",
       "      <td>CS</td>\n",
       "      <td>2019</td>\n",
       "      <td>85.50</td>\n",
       "    </tr>\n",
       "    <tr>\n",
       "      <th>2</th>\n",
       "      <td>ML0003</td>\n",
       "      <td>3</td>\n",
       "      <td>0</td>\n",
       "      <td>1</td>\n",
       "      <td>2</td>\n",
       "      <td>2</td>\n",
       "      <td>2</td>\n",
       "      <td>0</td>\n",
       "      <td>2</td>\n",
       "      <td>0</td>\n",
       "      <td>0</td>\n",
       "      <td>0</td>\n",
       "      <td>0</td>\n",
       "      <td>0</td>\n",
       "      <td>Master of Science (M.Sc)</td>\n",
       "      <td>CS</td>\n",
       "      <td>2018</td>\n",
       "      <td>70.00</td>\n",
       "    </tr>\n",
       "    <tr>\n",
       "      <th>3</th>\n",
       "      <td>ML0004</td>\n",
       "      <td>2</td>\n",
       "      <td>0</td>\n",
       "      <td>2</td>\n",
       "      <td>1</td>\n",
       "      <td>0</td>\n",
       "      <td>2</td>\n",
       "      <td>0</td>\n",
       "      <td>0</td>\n",
       "      <td>0</td>\n",
       "      <td>0</td>\n",
       "      <td>0</td>\n",
       "      <td>0</td>\n",
       "      <td>0</td>\n",
       "      <td>Bachelor of Engineering (B.E)</td>\n",
       "      <td>Electronics and Communication</td>\n",
       "      <td>2019</td>\n",
       "      <td>6.86</td>\n",
       "    </tr>\n",
       "    <tr>\n",
       "      <th>4</th>\n",
       "      <td>ML0005</td>\n",
       "      <td>2</td>\n",
       "      <td>0</td>\n",
       "      <td>0</td>\n",
       "      <td>2</td>\n",
       "      <td>0</td>\n",
       "      <td>2</td>\n",
       "      <td>1</td>\n",
       "      <td>1</td>\n",
       "      <td>0</td>\n",
       "      <td>0</td>\n",
       "      <td>2</td>\n",
       "      <td>2</td>\n",
       "      <td>2</td>\n",
       "      <td>Bachelor of Technology (B.Tech)</td>\n",
       "      <td>Others_Stream</td>\n",
       "      <td>2018</td>\n",
       "      <td>6.38</td>\n",
       "    </tr>\n",
       "  </tbody>\n",
       "</table>\n",
       "</div>"
      ],
      "text/plain": [
       "  Application_ID  Python (out of 3)  R Programming (out of 3)  \\\n",
       "0         ML0001                  0                         2   \n",
       "1         ML0002                  2                         0   \n",
       "2         ML0003                  3                         0   \n",
       "3         ML0004                  2                         0   \n",
       "4         ML0005                  2                         0   \n",
       "\n",
       "   Deep Learning (out of 3)  PHP (out of 3)  MySQL (out of 3)  \\\n",
       "0                         0               2                 0   \n",
       "1                         0               2                 2   \n",
       "2                         1               2                 2   \n",
       "3                         2               1                 0   \n",
       "4                         0               2                 0   \n",
       "\n",
       "   HTML (out of 3)  CSS (out of 3)  JavaScript (out of 3)  AJAX (out of 3)  \\\n",
       "0                2               3                      2                0   \n",
       "1                2               2                      2                0   \n",
       "2                2               0                      2                0   \n",
       "3                2               0                      0                0   \n",
       "4                2               1                      1                0   \n",
       "\n",
       "   Bootstrap (out of 3)  MongoDB (out of 3)  Node.js (out of 3)  \\\n",
       "0                     2                   0                   0   \n",
       "1                     0                   0                   0   \n",
       "2                     0                   0                   0   \n",
       "3                     0                   0                   0   \n",
       "4                     0                   2                   2   \n",
       "\n",
       "   ReactJS (out of 3)                           Degree  \\\n",
       "0                   0                     other_Branch   \n",
       "1                   0  Bachelor of Technology (B.Tech)   \n",
       "2                   0         Master of Science (M.Sc)   \n",
       "3                   0    Bachelor of Engineering (B.E)   \n",
       "4                   2  Bachelor of Technology (B.Tech)   \n",
       "\n",
       "                          Stream  Current Year Of Graduation  Performance_UG  \n",
       "0                    Mathematics                        2017           70.00  \n",
       "1                             CS                        2019           85.50  \n",
       "2                             CS                        2018           70.00  \n",
       "3  Electronics and Communication                        2019            6.86  \n",
       "4                  Others_Stream                        2018            6.38  "
      ]
     },
     "execution_count": 38,
     "metadata": {},
     "output_type": "execute_result"
    }
   ],
   "source": [
    "df2.head()"
   ]
  },
  {
   "cell_type": "code",
   "execution_count": 39,
   "metadata": {},
   "outputs": [
    {
     "data": {
      "text/plain": [
       "Application_ID                 object\n",
       "Python (out of 3)               int64\n",
       "R Programming (out of 3)        int64\n",
       "Deep Learning (out of 3)        int64\n",
       "PHP (out of 3)                  int64\n",
       "MySQL (out of 3)                int64\n",
       "HTML (out of 3)                 int64\n",
       "CSS (out of 3)                  int64\n",
       "JavaScript (out of 3)           int64\n",
       "AJAX (out of 3)                 int64\n",
       "Bootstrap (out of 3)            int64\n",
       "MongoDB (out of 3)              int64\n",
       "Node.js (out of 3)              int64\n",
       "ReactJS (out of 3)              int64\n",
       "Degree                         object\n",
       "Stream                         object\n",
       "Current Year Of Graduation      int64\n",
       "Performance_UG                float64\n",
       "dtype: object"
      ]
     },
     "execution_count": 39,
     "metadata": {},
     "output_type": "execute_result"
    }
   ],
   "source": [
    "df2.dtypes"
   ]
  },
  {
   "cell_type": "markdown",
   "metadata": {},
   "source": [
    "# Use One Hot Encoding"
   ]
  },
  {
   "cell_type": "code",
   "execution_count": 40,
   "metadata": {},
   "outputs": [],
   "source": [
    "dum=pd.get_dummies(df2['Degree'])\n",
    "df3=pd.concat((df2,dum),axis=1)"
   ]
  },
  {
   "cell_type": "code",
   "execution_count": 41,
   "metadata": {},
   "outputs": [],
   "source": [
    "d=pd.get_dummies(df2['Stream'])\n",
    "df4=pd.concat((df3,d),axis=1)"
   ]
  },
  {
   "cell_type": "code",
   "execution_count": 42,
   "metadata": {},
   "outputs": [],
   "source": [
    "df4=df4.drop(['Degree','Stream'],axis=1)"
   ]
  },
  {
   "cell_type": "code",
   "execution_count": 43,
   "metadata": {},
   "outputs": [
    {
     "data": {
      "text/plain": [
       "(392, 41)"
      ]
     },
     "execution_count": 43,
     "metadata": {},
     "output_type": "execute_result"
    }
   ],
   "source": [
    "df4.shape"
   ]
  },
  {
   "cell_type": "code",
   "execution_count": 44,
   "metadata": {},
   "outputs": [
    {
     "data": {
      "text/html": [
       "<div>\n",
       "<style scoped>\n",
       "    .dataframe tbody tr th:only-of-type {\n",
       "        vertical-align: middle;\n",
       "    }\n",
       "\n",
       "    .dataframe tbody tr th {\n",
       "        vertical-align: top;\n",
       "    }\n",
       "\n",
       "    .dataframe thead th {\n",
       "        text-align: right;\n",
       "    }\n",
       "</style>\n",
       "<table border=\"1\" class=\"dataframe\">\n",
       "  <thead>\n",
       "    <tr style=\"text-align: right;\">\n",
       "      <th></th>\n",
       "      <th>Application_ID</th>\n",
       "      <th>Python (out of 3)</th>\n",
       "      <th>R Programming (out of 3)</th>\n",
       "      <th>Deep Learning (out of 3)</th>\n",
       "      <th>PHP (out of 3)</th>\n",
       "      <th>MySQL (out of 3)</th>\n",
       "      <th>HTML (out of 3)</th>\n",
       "      <th>CSS (out of 3)</th>\n",
       "      <th>JavaScript (out of 3)</th>\n",
       "      <th>AJAX (out of 3)</th>\n",
       "      <th>...</th>\n",
       "      <th>Data Science</th>\n",
       "      <th>Electrical and Electronics Engineering</th>\n",
       "      <th>Electronics and Communication</th>\n",
       "      <th>Electronics and Telecommunication Engineering (ETE)</th>\n",
       "      <th>IT</th>\n",
       "      <th>MCA</th>\n",
       "      <th>Mathematics</th>\n",
       "      <th>Mechanical Engineering</th>\n",
       "      <th>Others_Stream</th>\n",
       "      <th>Statistics</th>\n",
       "    </tr>\n",
       "  </thead>\n",
       "  <tbody>\n",
       "    <tr>\n",
       "      <th>0</th>\n",
       "      <td>ML0001</td>\n",
       "      <td>0</td>\n",
       "      <td>2</td>\n",
       "      <td>0</td>\n",
       "      <td>2</td>\n",
       "      <td>0</td>\n",
       "      <td>2</td>\n",
       "      <td>3</td>\n",
       "      <td>2</td>\n",
       "      <td>0</td>\n",
       "      <td>...</td>\n",
       "      <td>0</td>\n",
       "      <td>0</td>\n",
       "      <td>0</td>\n",
       "      <td>0</td>\n",
       "      <td>0</td>\n",
       "      <td>0</td>\n",
       "      <td>1</td>\n",
       "      <td>0</td>\n",
       "      <td>0</td>\n",
       "      <td>0</td>\n",
       "    </tr>\n",
       "    <tr>\n",
       "      <th>1</th>\n",
       "      <td>ML0002</td>\n",
       "      <td>2</td>\n",
       "      <td>0</td>\n",
       "      <td>0</td>\n",
       "      <td>2</td>\n",
       "      <td>2</td>\n",
       "      <td>2</td>\n",
       "      <td>2</td>\n",
       "      <td>2</td>\n",
       "      <td>0</td>\n",
       "      <td>...</td>\n",
       "      <td>0</td>\n",
       "      <td>0</td>\n",
       "      <td>0</td>\n",
       "      <td>0</td>\n",
       "      <td>0</td>\n",
       "      <td>0</td>\n",
       "      <td>0</td>\n",
       "      <td>0</td>\n",
       "      <td>0</td>\n",
       "      <td>0</td>\n",
       "    </tr>\n",
       "    <tr>\n",
       "      <th>2</th>\n",
       "      <td>ML0003</td>\n",
       "      <td>3</td>\n",
       "      <td>0</td>\n",
       "      <td>1</td>\n",
       "      <td>2</td>\n",
       "      <td>2</td>\n",
       "      <td>2</td>\n",
       "      <td>0</td>\n",
       "      <td>2</td>\n",
       "      <td>0</td>\n",
       "      <td>...</td>\n",
       "      <td>0</td>\n",
       "      <td>0</td>\n",
       "      <td>0</td>\n",
       "      <td>0</td>\n",
       "      <td>0</td>\n",
       "      <td>0</td>\n",
       "      <td>0</td>\n",
       "      <td>0</td>\n",
       "      <td>0</td>\n",
       "      <td>0</td>\n",
       "    </tr>\n",
       "    <tr>\n",
       "      <th>3</th>\n",
       "      <td>ML0004</td>\n",
       "      <td>2</td>\n",
       "      <td>0</td>\n",
       "      <td>2</td>\n",
       "      <td>1</td>\n",
       "      <td>0</td>\n",
       "      <td>2</td>\n",
       "      <td>0</td>\n",
       "      <td>0</td>\n",
       "      <td>0</td>\n",
       "      <td>...</td>\n",
       "      <td>0</td>\n",
       "      <td>0</td>\n",
       "      <td>1</td>\n",
       "      <td>0</td>\n",
       "      <td>0</td>\n",
       "      <td>0</td>\n",
       "      <td>0</td>\n",
       "      <td>0</td>\n",
       "      <td>0</td>\n",
       "      <td>0</td>\n",
       "    </tr>\n",
       "    <tr>\n",
       "      <th>4</th>\n",
       "      <td>ML0005</td>\n",
       "      <td>2</td>\n",
       "      <td>0</td>\n",
       "      <td>0</td>\n",
       "      <td>2</td>\n",
       "      <td>0</td>\n",
       "      <td>2</td>\n",
       "      <td>1</td>\n",
       "      <td>1</td>\n",
       "      <td>0</td>\n",
       "      <td>...</td>\n",
       "      <td>0</td>\n",
       "      <td>0</td>\n",
       "      <td>0</td>\n",
       "      <td>0</td>\n",
       "      <td>0</td>\n",
       "      <td>0</td>\n",
       "      <td>0</td>\n",
       "      <td>0</td>\n",
       "      <td>1</td>\n",
       "      <td>0</td>\n",
       "    </tr>\n",
       "  </tbody>\n",
       "</table>\n",
       "<p>5 rows × 41 columns</p>\n",
       "</div>"
      ],
      "text/plain": [
       "  Application_ID  Python (out of 3)  R Programming (out of 3)  \\\n",
       "0         ML0001                  0                         2   \n",
       "1         ML0002                  2                         0   \n",
       "2         ML0003                  3                         0   \n",
       "3         ML0004                  2                         0   \n",
       "4         ML0005                  2                         0   \n",
       "\n",
       "   Deep Learning (out of 3)  PHP (out of 3)  MySQL (out of 3)  \\\n",
       "0                         0               2                 0   \n",
       "1                         0               2                 2   \n",
       "2                         1               2                 2   \n",
       "3                         2               1                 0   \n",
       "4                         0               2                 0   \n",
       "\n",
       "   HTML (out of 3)  CSS (out of 3)  JavaScript (out of 3)  AJAX (out of 3)  \\\n",
       "0                2               3                      2                0   \n",
       "1                2               2                      2                0   \n",
       "2                2               0                      2                0   \n",
       "3                2               0                      0                0   \n",
       "4                2               1                      1                0   \n",
       "\n",
       "   ...  Data Science  Electrical and Electronics Engineering  \\\n",
       "0  ...             0                                       0   \n",
       "1  ...             0                                       0   \n",
       "2  ...             0                                       0   \n",
       "3  ...             0                                       0   \n",
       "4  ...             0                                       0   \n",
       "\n",
       "   Electronics and Communication  \\\n",
       "0                              0   \n",
       "1                              0   \n",
       "2                              0   \n",
       "3                              1   \n",
       "4                              0   \n",
       "\n",
       "   Electronics and Telecommunication Engineering (ETE)  IT  MCA  Mathematics  \\\n",
       "0                                                  0     0    0            1   \n",
       "1                                                  0     0    0            0   \n",
       "2                                                  0     0    0            0   \n",
       "3                                                  0     0    0            0   \n",
       "4                                                  0     0    0            0   \n",
       "\n",
       "   Mechanical Engineering  Others_Stream  Statistics  \n",
       "0                       0              0           0  \n",
       "1                       0              0           0  \n",
       "2                       0              0           0  \n",
       "3                       0              0           0  \n",
       "4                       0              1           0  \n",
       "\n",
       "[5 rows x 41 columns]"
      ]
     },
     "execution_count": 44,
     "metadata": {},
     "output_type": "execute_result"
    }
   ],
   "source": [
    "df4.head()"
   ]
  },
  {
   "cell_type": "code",
   "execution_count": 45,
   "metadata": {},
   "outputs": [],
   "source": [
    "df4=df4.drop('Application_ID',axis=1)"
   ]
  },
  {
   "cell_type": "code",
   "execution_count": 46,
   "metadata": {},
   "outputs": [
    {
     "data": {
      "text/plain": [
       "(392, 40)"
      ]
     },
     "execution_count": 46,
     "metadata": {},
     "output_type": "execute_result"
    }
   ],
   "source": [
    "df4.shape"
   ]
  },
  {
   "cell_type": "markdown",
   "metadata": {},
   "source": [
    "# Build a Model Now"
   ]
  },
  {
   "cell_type": "code",
   "execution_count": 47,
   "metadata": {},
   "outputs": [],
   "source": [
    "c=KMeans(n_clusters=2)"
   ]
  },
  {
   "cell_type": "code",
   "execution_count": 48,
   "metadata": {},
   "outputs": [
    {
     "data": {
      "text/plain": [
       "KMeans(algorithm='auto', copy_x=True, init='k-means++', max_iter=300,\n",
       "       n_clusters=2, n_init=10, n_jobs=None, precompute_distances='auto',\n",
       "       random_state=None, tol=0.0001, verbose=0)"
      ]
     },
     "execution_count": 48,
     "metadata": {},
     "output_type": "execute_result"
    }
   ],
   "source": [
    "c.fit(df4)"
   ]
  },
  {
   "cell_type": "code",
   "execution_count": 49,
   "metadata": {},
   "outputs": [],
   "source": [
    "pred=c.predict(df4)"
   ]
  },
  {
   "cell_type": "code",
   "execution_count": 50,
   "metadata": {},
   "outputs": [
    {
     "data": {
      "text/plain": [
       "array([1, 1, 1, 0, 0, 1, 1, 0, 0, 1, 1, 0, 1, 0, 0, 0, 1, 0, 0, 1, 1, 0,\n",
       "       0, 1, 0, 1, 0, 1, 1, 1, 1, 1, 1, 1, 1, 0, 0, 0, 0, 1, 0, 0, 1, 0,\n",
       "       0, 0, 1, 0, 1, 0, 0, 1, 1, 1, 0, 1, 1, 0, 1, 0, 1, 0, 1, 0, 1, 0,\n",
       "       0, 0, 1, 0, 1, 1, 1, 0, 1, 1, 0, 1, 0, 0, 1, 1, 1, 1, 1, 1, 1, 1,\n",
       "       1, 1, 1, 0, 0, 0, 0, 1, 1, 1, 0, 0, 1, 1, 0, 1, 1, 0, 1, 1, 1, 0,\n",
       "       0, 0, 0, 1, 1, 0, 1, 1, 0, 0, 0, 1, 1, 1, 0, 0, 1, 1, 0, 1, 0, 1,\n",
       "       0, 1, 1, 0, 0, 1, 1, 0, 1, 0, 0, 1, 0, 1, 1, 0, 0, 1, 1, 1, 1, 1,\n",
       "       1, 0, 0, 0, 0, 0, 0, 1, 1, 0, 0, 0, 1, 1, 1, 0, 0, 1, 1, 0, 0, 0,\n",
       "       1, 0, 1, 1, 1, 1, 1, 1, 1, 0, 0, 1, 0, 0, 1, 0, 0, 1, 0, 0, 1, 0,\n",
       "       0, 0, 0, 1, 0, 0, 1, 0, 0, 0, 1, 1, 1, 0, 1, 1, 1, 0, 1, 1, 1, 1,\n",
       "       1, 0, 1, 0, 0, 1, 1, 0, 1, 1, 0, 1, 0, 1, 1, 1, 1, 1, 1, 1, 0, 0,\n",
       "       1, 0, 0, 1, 1, 0, 1, 1, 0, 0, 1, 0, 0, 0, 0, 1, 0, 0, 0, 1, 0, 1,\n",
       "       1, 1, 1, 1, 0, 0, 0, 1, 1, 1, 1, 0, 1, 0, 1, 0, 1, 1, 1, 0, 0, 0,\n",
       "       1, 0, 1, 1, 0, 1, 1, 1, 0, 1, 1, 1, 0, 1, 0, 1, 0, 1, 1, 1, 0, 0,\n",
       "       0, 1, 0, 1, 1, 0, 1, 1, 1, 0, 1, 0, 1, 1, 1, 0, 0, 1, 1, 1, 1, 1,\n",
       "       1, 1, 0, 0, 0, 0, 0, 0, 1, 1, 1, 0, 0, 1, 0, 1, 0, 0, 0, 1, 1, 1,\n",
       "       1, 1, 1, 1, 1, 1, 1, 0, 1, 0, 1, 0, 0, 1, 1, 0, 1, 1, 0, 0, 1, 0,\n",
       "       0, 0, 0, 1, 0, 0, 0, 1, 0, 1, 1, 1, 1, 1, 0, 0, 0, 1])"
      ]
     },
     "execution_count": 50,
     "metadata": {},
     "output_type": "execute_result"
    }
   ],
   "source": [
    "pred #model prediction "
   ]
  },
  {
   "cell_type": "code",
   "execution_count": 51,
   "metadata": {},
   "outputs": [],
   "source": [
    "frame=pd.DataFrame(df4)"
   ]
  },
  {
   "cell_type": "code",
   "execution_count": 52,
   "metadata": {},
   "outputs": [],
   "source": [
    "frame['cluster']=pred"
   ]
  },
  {
   "cell_type": "code",
   "execution_count": 53,
   "metadata": {},
   "outputs": [
    {
     "data": {
      "text/html": [
       "<div>\n",
       "<style scoped>\n",
       "    .dataframe tbody tr th:only-of-type {\n",
       "        vertical-align: middle;\n",
       "    }\n",
       "\n",
       "    .dataframe tbody tr th {\n",
       "        vertical-align: top;\n",
       "    }\n",
       "\n",
       "    .dataframe thead th {\n",
       "        text-align: right;\n",
       "    }\n",
       "</style>\n",
       "<table border=\"1\" class=\"dataframe\">\n",
       "  <thead>\n",
       "    <tr style=\"text-align: right;\">\n",
       "      <th></th>\n",
       "      <th>Python (out of 3)</th>\n",
       "      <th>R Programming (out of 3)</th>\n",
       "      <th>Deep Learning (out of 3)</th>\n",
       "      <th>PHP (out of 3)</th>\n",
       "      <th>MySQL (out of 3)</th>\n",
       "      <th>HTML (out of 3)</th>\n",
       "      <th>CSS (out of 3)</th>\n",
       "      <th>JavaScript (out of 3)</th>\n",
       "      <th>AJAX (out of 3)</th>\n",
       "      <th>Bootstrap (out of 3)</th>\n",
       "      <th>...</th>\n",
       "      <th>Electrical and Electronics Engineering</th>\n",
       "      <th>Electronics and Communication</th>\n",
       "      <th>Electronics and Telecommunication Engineering (ETE)</th>\n",
       "      <th>IT</th>\n",
       "      <th>MCA</th>\n",
       "      <th>Mathematics</th>\n",
       "      <th>Mechanical Engineering</th>\n",
       "      <th>Others_Stream</th>\n",
       "      <th>Statistics</th>\n",
       "      <th>cluster</th>\n",
       "    </tr>\n",
       "  </thead>\n",
       "  <tbody>\n",
       "    <tr>\n",
       "      <th>0</th>\n",
       "      <td>0</td>\n",
       "      <td>2</td>\n",
       "      <td>0</td>\n",
       "      <td>2</td>\n",
       "      <td>0</td>\n",
       "      <td>2</td>\n",
       "      <td>3</td>\n",
       "      <td>2</td>\n",
       "      <td>0</td>\n",
       "      <td>2</td>\n",
       "      <td>...</td>\n",
       "      <td>0</td>\n",
       "      <td>0</td>\n",
       "      <td>0</td>\n",
       "      <td>0</td>\n",
       "      <td>0</td>\n",
       "      <td>1</td>\n",
       "      <td>0</td>\n",
       "      <td>0</td>\n",
       "      <td>0</td>\n",
       "      <td>1</td>\n",
       "    </tr>\n",
       "    <tr>\n",
       "      <th>1</th>\n",
       "      <td>2</td>\n",
       "      <td>0</td>\n",
       "      <td>0</td>\n",
       "      <td>2</td>\n",
       "      <td>2</td>\n",
       "      <td>2</td>\n",
       "      <td>2</td>\n",
       "      <td>2</td>\n",
       "      <td>0</td>\n",
       "      <td>0</td>\n",
       "      <td>...</td>\n",
       "      <td>0</td>\n",
       "      <td>0</td>\n",
       "      <td>0</td>\n",
       "      <td>0</td>\n",
       "      <td>0</td>\n",
       "      <td>0</td>\n",
       "      <td>0</td>\n",
       "      <td>0</td>\n",
       "      <td>0</td>\n",
       "      <td>1</td>\n",
       "    </tr>\n",
       "    <tr>\n",
       "      <th>2</th>\n",
       "      <td>3</td>\n",
       "      <td>0</td>\n",
       "      <td>1</td>\n",
       "      <td>2</td>\n",
       "      <td>2</td>\n",
       "      <td>2</td>\n",
       "      <td>0</td>\n",
       "      <td>2</td>\n",
       "      <td>0</td>\n",
       "      <td>0</td>\n",
       "      <td>...</td>\n",
       "      <td>0</td>\n",
       "      <td>0</td>\n",
       "      <td>0</td>\n",
       "      <td>0</td>\n",
       "      <td>0</td>\n",
       "      <td>0</td>\n",
       "      <td>0</td>\n",
       "      <td>0</td>\n",
       "      <td>0</td>\n",
       "      <td>1</td>\n",
       "    </tr>\n",
       "    <tr>\n",
       "      <th>3</th>\n",
       "      <td>2</td>\n",
       "      <td>0</td>\n",
       "      <td>2</td>\n",
       "      <td>1</td>\n",
       "      <td>0</td>\n",
       "      <td>2</td>\n",
       "      <td>0</td>\n",
       "      <td>0</td>\n",
       "      <td>0</td>\n",
       "      <td>0</td>\n",
       "      <td>...</td>\n",
       "      <td>0</td>\n",
       "      <td>1</td>\n",
       "      <td>0</td>\n",
       "      <td>0</td>\n",
       "      <td>0</td>\n",
       "      <td>0</td>\n",
       "      <td>0</td>\n",
       "      <td>0</td>\n",
       "      <td>0</td>\n",
       "      <td>0</td>\n",
       "    </tr>\n",
       "    <tr>\n",
       "      <th>4</th>\n",
       "      <td>2</td>\n",
       "      <td>0</td>\n",
       "      <td>0</td>\n",
       "      <td>2</td>\n",
       "      <td>0</td>\n",
       "      <td>2</td>\n",
       "      <td>1</td>\n",
       "      <td>1</td>\n",
       "      <td>0</td>\n",
       "      <td>0</td>\n",
       "      <td>...</td>\n",
       "      <td>0</td>\n",
       "      <td>0</td>\n",
       "      <td>0</td>\n",
       "      <td>0</td>\n",
       "      <td>0</td>\n",
       "      <td>0</td>\n",
       "      <td>0</td>\n",
       "      <td>1</td>\n",
       "      <td>0</td>\n",
       "      <td>0</td>\n",
       "    </tr>\n",
       "  </tbody>\n",
       "</table>\n",
       "<p>5 rows × 41 columns</p>\n",
       "</div>"
      ],
      "text/plain": [
       "   Python (out of 3)  R Programming (out of 3)  Deep Learning (out of 3)  \\\n",
       "0                  0                         2                         0   \n",
       "1                  2                         0                         0   \n",
       "2                  3                         0                         1   \n",
       "3                  2                         0                         2   \n",
       "4                  2                         0                         0   \n",
       "\n",
       "   PHP (out of 3)  MySQL (out of 3)  HTML (out of 3)  CSS (out of 3)  \\\n",
       "0               2                 0                2               3   \n",
       "1               2                 2                2               2   \n",
       "2               2                 2                2               0   \n",
       "3               1                 0                2               0   \n",
       "4               2                 0                2               1   \n",
       "\n",
       "   JavaScript (out of 3)  AJAX (out of 3)  Bootstrap (out of 3)  ...  \\\n",
       "0                      2                0                     2  ...   \n",
       "1                      2                0                     0  ...   \n",
       "2                      2                0                     0  ...   \n",
       "3                      0                0                     0  ...   \n",
       "4                      1                0                     0  ...   \n",
       "\n",
       "   Electrical and Electronics Engineering  Electronics and Communication  \\\n",
       "0                                       0                              0   \n",
       "1                                       0                              0   \n",
       "2                                       0                              0   \n",
       "3                                       0                              1   \n",
       "4                                       0                              0   \n",
       "\n",
       "   Electronics and Telecommunication Engineering (ETE)  IT  MCA  Mathematics  \\\n",
       "0                                                  0     0    0            1   \n",
       "1                                                  0     0    0            0   \n",
       "2                                                  0     0    0            0   \n",
       "3                                                  0     0    0            0   \n",
       "4                                                  0     0    0            0   \n",
       "\n",
       "   Mechanical Engineering  Others_Stream  Statistics  cluster  \n",
       "0                       0              0           0        1  \n",
       "1                       0              0           0        1  \n",
       "2                       0              0           0        1  \n",
       "3                       0              0           0        0  \n",
       "4                       0              1           0        0  \n",
       "\n",
       "[5 rows x 41 columns]"
      ]
     },
     "execution_count": 53,
     "metadata": {},
     "output_type": "execute_result"
    }
   ],
   "source": [
    "frame.head()"
   ]
  },
  {
   "cell_type": "code",
   "execution_count": 54,
   "metadata": {},
   "outputs": [],
   "source": [
    "scale=StandardScaler()\n",
    "\n",
    "scale_data=scale.fit_transform(df4) #scaling the data"
   ]
  },
  {
   "cell_type": "code",
   "execution_count": 55,
   "metadata": {},
   "outputs": [
    {
     "data": {
      "text/html": [
       "<div>\n",
       "<style scoped>\n",
       "    .dataframe tbody tr th:only-of-type {\n",
       "        vertical-align: middle;\n",
       "    }\n",
       "\n",
       "    .dataframe tbody tr th {\n",
       "        vertical-align: top;\n",
       "    }\n",
       "\n",
       "    .dataframe thead th {\n",
       "        text-align: right;\n",
       "    }\n",
       "</style>\n",
       "<table border=\"1\" class=\"dataframe\">\n",
       "  <thead>\n",
       "    <tr style=\"text-align: right;\">\n",
       "      <th></th>\n",
       "      <th>0</th>\n",
       "      <th>1</th>\n",
       "      <th>2</th>\n",
       "      <th>3</th>\n",
       "      <th>4</th>\n",
       "      <th>5</th>\n",
       "      <th>6</th>\n",
       "      <th>7</th>\n",
       "      <th>8</th>\n",
       "      <th>9</th>\n",
       "      <th>...</th>\n",
       "      <th>31</th>\n",
       "      <th>32</th>\n",
       "      <th>33</th>\n",
       "      <th>34</th>\n",
       "      <th>35</th>\n",
       "      <th>36</th>\n",
       "      <th>37</th>\n",
       "      <th>38</th>\n",
       "      <th>39</th>\n",
       "      <th>40</th>\n",
       "    </tr>\n",
       "  </thead>\n",
       "  <tbody>\n",
       "    <tr>\n",
       "      <th>count</th>\n",
       "      <td>3.920000e+02</td>\n",
       "      <td>3.920000e+02</td>\n",
       "      <td>3.920000e+02</td>\n",
       "      <td>3.920000e+02</td>\n",
       "      <td>3.920000e+02</td>\n",
       "      <td>3.920000e+02</td>\n",
       "      <td>3.920000e+02</td>\n",
       "      <td>3.920000e+02</td>\n",
       "      <td>3.920000e+02</td>\n",
       "      <td>3.920000e+02</td>\n",
       "      <td>...</td>\n",
       "      <td>3.920000e+02</td>\n",
       "      <td>3.920000e+02</td>\n",
       "      <td>3.920000e+02</td>\n",
       "      <td>3.920000e+02</td>\n",
       "      <td>3.920000e+02</td>\n",
       "      <td>3.920000e+02</td>\n",
       "      <td>3.920000e+02</td>\n",
       "      <td>3.920000e+02</td>\n",
       "      <td>3.920000e+02</td>\n",
       "      <td>3.920000e+02</td>\n",
       "    </tr>\n",
       "    <tr>\n",
       "      <th>mean</th>\n",
       "      <td>2.209117e-17</td>\n",
       "      <td>5.664403e-17</td>\n",
       "      <td>2.945490e-17</td>\n",
       "      <td>3.002134e-17</td>\n",
       "      <td>-1.416101e-18</td>\n",
       "      <td>6.230844e-17</td>\n",
       "      <td>7.816876e-17</td>\n",
       "      <td>-5.664403e-18</td>\n",
       "      <td>9.523278e-17</td>\n",
       "      <td>-2.973812e-17</td>\n",
       "      <td>...</td>\n",
       "      <td>4.007565e-17</td>\n",
       "      <td>-3.596896e-17</td>\n",
       "      <td>1.454336e-16</td>\n",
       "      <td>2.243104e-16</td>\n",
       "      <td>-3.855334e-16</td>\n",
       "      <td>-4.671008e-16</td>\n",
       "      <td>-1.098894e-16</td>\n",
       "      <td>-5.032822e-16</td>\n",
       "      <td>1.509563e-16</td>\n",
       "      <td>9.912706e-18</td>\n",
       "    </tr>\n",
       "    <tr>\n",
       "      <th>std</th>\n",
       "      <td>1.001278e+00</td>\n",
       "      <td>1.001278e+00</td>\n",
       "      <td>1.001278e+00</td>\n",
       "      <td>1.001278e+00</td>\n",
       "      <td>1.001278e+00</td>\n",
       "      <td>1.001278e+00</td>\n",
       "      <td>1.001278e+00</td>\n",
       "      <td>1.001278e+00</td>\n",
       "      <td>1.001278e+00</td>\n",
       "      <td>1.001278e+00</td>\n",
       "      <td>...</td>\n",
       "      <td>1.001278e+00</td>\n",
       "      <td>1.001278e+00</td>\n",
       "      <td>1.001278e+00</td>\n",
       "      <td>1.001278e+00</td>\n",
       "      <td>1.001278e+00</td>\n",
       "      <td>1.001278e+00</td>\n",
       "      <td>1.001278e+00</td>\n",
       "      <td>1.001278e+00</td>\n",
       "      <td>1.001278e+00</td>\n",
       "      <td>1.001278e+00</td>\n",
       "    </tr>\n",
       "    <tr>\n",
       "      <th>min</th>\n",
       "      <td>-1.411716e+00</td>\n",
       "      <td>-6.265390e-01</td>\n",
       "      <td>-5.488605e-01</td>\n",
       "      <td>-6.723349e-01</td>\n",
       "      <td>-4.818238e-01</td>\n",
       "      <td>-1.258800e+00</td>\n",
       "      <td>-1.023734e+00</td>\n",
       "      <td>-7.980264e-01</td>\n",
       "      <td>-1.246757e-01</td>\n",
       "      <td>-3.710501e-01</td>\n",
       "      <td>...</td>\n",
       "      <td>-1.348400e-01</td>\n",
       "      <td>-3.646203e-01</td>\n",
       "      <td>-1.443376e-01</td>\n",
       "      <td>-2.981424e-01</td>\n",
       "      <td>-1.246757e-01</td>\n",
       "      <td>-1.246757e-01</td>\n",
       "      <td>-1.994688e-01</td>\n",
       "      <td>-4.540417e-01</td>\n",
       "      <td>-8.781846e-02</td>\n",
       "      <td>-1.102129e+00</td>\n",
       "    </tr>\n",
       "    <tr>\n",
       "      <th>25%</th>\n",
       "      <td>-1.411716e+00</td>\n",
       "      <td>-6.265390e-01</td>\n",
       "      <td>-5.488605e-01</td>\n",
       "      <td>-6.723349e-01</td>\n",
       "      <td>-4.818238e-01</td>\n",
       "      <td>-1.258800e+00</td>\n",
       "      <td>-1.023734e+00</td>\n",
       "      <td>-7.980264e-01</td>\n",
       "      <td>-1.246757e-01</td>\n",
       "      <td>-3.710501e-01</td>\n",
       "      <td>...</td>\n",
       "      <td>-1.348400e-01</td>\n",
       "      <td>-3.646203e-01</td>\n",
       "      <td>-1.443376e-01</td>\n",
       "      <td>-2.981424e-01</td>\n",
       "      <td>-1.246757e-01</td>\n",
       "      <td>-1.246757e-01</td>\n",
       "      <td>-1.994688e-01</td>\n",
       "      <td>-4.540417e-01</td>\n",
       "      <td>-8.781846e-02</td>\n",
       "      <td>-1.102129e+00</td>\n",
       "    </tr>\n",
       "    <tr>\n",
       "      <th>50%</th>\n",
       "      <td>6.416889e-01</td>\n",
       "      <td>-6.265390e-01</td>\n",
       "      <td>-5.488605e-01</td>\n",
       "      <td>-6.723349e-01</td>\n",
       "      <td>-4.818238e-01</td>\n",
       "      <td>6.103270e-01</td>\n",
       "      <td>-4.494442e-02</td>\n",
       "      <td>-7.980264e-01</td>\n",
       "      <td>-1.246757e-01</td>\n",
       "      <td>-3.710501e-01</td>\n",
       "      <td>...</td>\n",
       "      <td>-1.348400e-01</td>\n",
       "      <td>-3.646203e-01</td>\n",
       "      <td>-1.443376e-01</td>\n",
       "      <td>-2.981424e-01</td>\n",
       "      <td>-1.246757e-01</td>\n",
       "      <td>-1.246757e-01</td>\n",
       "      <td>-1.994688e-01</td>\n",
       "      <td>-4.540417e-01</td>\n",
       "      <td>-8.781846e-02</td>\n",
       "      <td>9.073345e-01</td>\n",
       "    </tr>\n",
       "    <tr>\n",
       "      <th>75%</th>\n",
       "      <td>6.416889e-01</td>\n",
       "      <td>4.797821e-01</td>\n",
       "      <td>6.398318e-01</td>\n",
       "      <td>4.258121e-01</td>\n",
       "      <td>-4.818238e-01</td>\n",
       "      <td>6.103270e-01</td>\n",
       "      <td>9.338451e-01</td>\n",
       "      <td>1.273671e+00</td>\n",
       "      <td>-1.246757e-01</td>\n",
       "      <td>-3.710501e-01</td>\n",
       "      <td>...</td>\n",
       "      <td>-1.348400e-01</td>\n",
       "      <td>-3.646203e-01</td>\n",
       "      <td>-1.443376e-01</td>\n",
       "      <td>-2.981424e-01</td>\n",
       "      <td>-1.246757e-01</td>\n",
       "      <td>-1.246757e-01</td>\n",
       "      <td>-1.994688e-01</td>\n",
       "      <td>-4.540417e-01</td>\n",
       "      <td>-8.781846e-02</td>\n",
       "      <td>9.073345e-01</td>\n",
       "    </tr>\n",
       "    <tr>\n",
       "      <th>max</th>\n",
       "      <td>1.668391e+00</td>\n",
       "      <td>2.692424e+00</td>\n",
       "      <td>3.017216e+00</td>\n",
       "      <td>2.622106e+00</td>\n",
       "      <td>3.104409e+00</td>\n",
       "      <td>1.544890e+00</td>\n",
       "      <td>1.912635e+00</td>\n",
       "      <td>2.309520e+00</td>\n",
       "      <td>8.020806e+00</td>\n",
       "      <td>3.824671e+00</td>\n",
       "      <td>...</td>\n",
       "      <td>7.416198e+00</td>\n",
       "      <td>2.742579e+00</td>\n",
       "      <td>6.928203e+00</td>\n",
       "      <td>3.354102e+00</td>\n",
       "      <td>8.020806e+00</td>\n",
       "      <td>8.020806e+00</td>\n",
       "      <td>5.013316e+00</td>\n",
       "      <td>2.202441e+00</td>\n",
       "      <td>1.138713e+01</td>\n",
       "      <td>9.073345e-01</td>\n",
       "    </tr>\n",
       "  </tbody>\n",
       "</table>\n",
       "<p>8 rows × 41 columns</p>\n",
       "</div>"
      ],
      "text/plain": [
       "                 0             1             2             3             4   \\\n",
       "count  3.920000e+02  3.920000e+02  3.920000e+02  3.920000e+02  3.920000e+02   \n",
       "mean   2.209117e-17  5.664403e-17  2.945490e-17  3.002134e-17 -1.416101e-18   \n",
       "std    1.001278e+00  1.001278e+00  1.001278e+00  1.001278e+00  1.001278e+00   \n",
       "min   -1.411716e+00 -6.265390e-01 -5.488605e-01 -6.723349e-01 -4.818238e-01   \n",
       "25%   -1.411716e+00 -6.265390e-01 -5.488605e-01 -6.723349e-01 -4.818238e-01   \n",
       "50%    6.416889e-01 -6.265390e-01 -5.488605e-01 -6.723349e-01 -4.818238e-01   \n",
       "75%    6.416889e-01  4.797821e-01  6.398318e-01  4.258121e-01 -4.818238e-01   \n",
       "max    1.668391e+00  2.692424e+00  3.017216e+00  2.622106e+00  3.104409e+00   \n",
       "\n",
       "                 5             6             7             8             9   \\\n",
       "count  3.920000e+02  3.920000e+02  3.920000e+02  3.920000e+02  3.920000e+02   \n",
       "mean   6.230844e-17  7.816876e-17 -5.664403e-18  9.523278e-17 -2.973812e-17   \n",
       "std    1.001278e+00  1.001278e+00  1.001278e+00  1.001278e+00  1.001278e+00   \n",
       "min   -1.258800e+00 -1.023734e+00 -7.980264e-01 -1.246757e-01 -3.710501e-01   \n",
       "25%   -1.258800e+00 -1.023734e+00 -7.980264e-01 -1.246757e-01 -3.710501e-01   \n",
       "50%    6.103270e-01 -4.494442e-02 -7.980264e-01 -1.246757e-01 -3.710501e-01   \n",
       "75%    6.103270e-01  9.338451e-01  1.273671e+00 -1.246757e-01 -3.710501e-01   \n",
       "max    1.544890e+00  1.912635e+00  2.309520e+00  8.020806e+00  3.824671e+00   \n",
       "\n",
       "       ...            31            32            33            34  \\\n",
       "count  ...  3.920000e+02  3.920000e+02  3.920000e+02  3.920000e+02   \n",
       "mean   ...  4.007565e-17 -3.596896e-17  1.454336e-16  2.243104e-16   \n",
       "std    ...  1.001278e+00  1.001278e+00  1.001278e+00  1.001278e+00   \n",
       "min    ... -1.348400e-01 -3.646203e-01 -1.443376e-01 -2.981424e-01   \n",
       "25%    ... -1.348400e-01 -3.646203e-01 -1.443376e-01 -2.981424e-01   \n",
       "50%    ... -1.348400e-01 -3.646203e-01 -1.443376e-01 -2.981424e-01   \n",
       "75%    ... -1.348400e-01 -3.646203e-01 -1.443376e-01 -2.981424e-01   \n",
       "max    ...  7.416198e+00  2.742579e+00  6.928203e+00  3.354102e+00   \n",
       "\n",
       "                 35            36            37            38            39  \\\n",
       "count  3.920000e+02  3.920000e+02  3.920000e+02  3.920000e+02  3.920000e+02   \n",
       "mean  -3.855334e-16 -4.671008e-16 -1.098894e-16 -5.032822e-16  1.509563e-16   \n",
       "std    1.001278e+00  1.001278e+00  1.001278e+00  1.001278e+00  1.001278e+00   \n",
       "min   -1.246757e-01 -1.246757e-01 -1.994688e-01 -4.540417e-01 -8.781846e-02   \n",
       "25%   -1.246757e-01 -1.246757e-01 -1.994688e-01 -4.540417e-01 -8.781846e-02   \n",
       "50%   -1.246757e-01 -1.246757e-01 -1.994688e-01 -4.540417e-01 -8.781846e-02   \n",
       "75%   -1.246757e-01 -1.246757e-01 -1.994688e-01 -4.540417e-01 -8.781846e-02   \n",
       "max    8.020806e+00  8.020806e+00  5.013316e+00  2.202441e+00  1.138713e+01   \n",
       "\n",
       "                 40  \n",
       "count  3.920000e+02  \n",
       "mean   9.912706e-18  \n",
       "std    1.001278e+00  \n",
       "min   -1.102129e+00  \n",
       "25%   -1.102129e+00  \n",
       "50%    9.073345e-01  \n",
       "75%    9.073345e-01  \n",
       "max    9.073345e-01  \n",
       "\n",
       "[8 rows x 41 columns]"
      ]
     },
     "execution_count": 55,
     "metadata": {},
     "output_type": "execute_result"
    }
   ],
   "source": [
    "pd.DataFrame(scale_data).describe()"
   ]
  },
  {
   "cell_type": "code",
   "execution_count": 56,
   "metadata": {},
   "outputs": [
    {
     "data": {
      "text/plain": [
       "KMeans(algorithm='auto', copy_x=True, init='k-means++', max_iter=300,\n",
       "       n_clusters=2, n_init=10, n_jobs=None, precompute_distances='auto',\n",
       "       random_state=None, tol=0.0001, verbose=0)"
      ]
     },
     "execution_count": 56,
     "metadata": {},
     "output_type": "execute_result"
    }
   ],
   "source": [
    "means=KMeans(n_clusters=2) #fit the model\n",
    "means.fit(scale_data)"
   ]
  },
  {
   "cell_type": "code",
   "execution_count": 57,
   "metadata": {},
   "outputs": [],
   "source": [
    "pred=means.predict(scale_data)"
   ]
  },
  {
   "cell_type": "code",
   "execution_count": 58,
   "metadata": {},
   "outputs": [
    {
     "data": {
      "text/plain": [
       "array([1, 1, 1, 0, 1, 1, 0, 0, 0, 1, 0, 0, 1, 0, 0, 1, 1, 0, 0, 1, 1, 0,\n",
       "       0, 0, 1, 0, 0, 0, 1, 1, 1, 0, 0, 1, 1, 0, 1, 1, 1, 0, 0, 1, 1, 0,\n",
       "       0, 0, 1, 0, 1, 0, 0, 1, 1, 0, 1, 0, 0, 1, 0, 1, 0, 0, 0, 0, 0, 1,\n",
       "       1, 0, 0, 0, 1, 1, 0, 1, 0, 1, 0, 1, 0, 0, 1, 0, 1, 0, 0, 0, 0, 0,\n",
       "       1, 1, 0, 0, 0, 0, 1, 0, 1, 0, 1, 1, 1, 1, 0, 0, 0, 0, 0, 1, 0, 0,\n",
       "       1, 0, 1, 0, 0, 0, 1, 0, 0, 0, 1, 1, 1, 1, 1, 0, 0, 0, 0, 1, 0, 1,\n",
       "       0, 0, 1, 0, 0, 0, 1, 1, 1, 0, 0, 0, 0, 0, 0, 0, 0, 1, 1, 0, 0, 1,\n",
       "       1, 0, 1, 1, 1, 0, 0, 1, 0, 0, 0, 0, 1, 0, 1, 0, 0, 1, 0, 0, 0, 0,\n",
       "       0, 0, 1, 0, 1, 1, 1, 0, 0, 1, 0, 0, 0, 0, 1, 0, 1, 1, 0, 1, 0, 0,\n",
       "       0, 0, 0, 1, 1, 0, 1, 1, 1, 0, 0, 1, 1, 0, 0, 0, 1, 0, 1, 0, 0, 1,\n",
       "       1, 1, 1, 0, 1, 1, 0, 0, 1, 1, 0, 0, 0, 1, 0, 1, 1, 1, 0, 1, 1, 0,\n",
       "       1, 0, 1, 0, 0, 0, 1, 1, 0, 0, 1, 0, 1, 0, 1, 1, 1, 0, 0, 1, 0, 0,\n",
       "       0, 0, 1, 0, 1, 0, 0, 1, 1, 0, 1, 0, 0, 1, 0, 1, 0, 0, 0, 0, 0, 1,\n",
       "       1, 0, 0, 0, 1, 1, 0, 1, 0, 1, 0, 1, 0, 0, 1, 0, 1, 0, 0, 0, 0, 0,\n",
       "       1, 1, 0, 0, 0, 1, 1, 0, 1, 0, 1, 1, 1, 1, 1, 0, 0, 0, 0, 1, 0, 0,\n",
       "       1, 0, 1, 0, 0, 0, 1, 0, 1, 0, 1, 1, 1, 1, 1, 0, 0, 0, 0, 1, 0, 1,\n",
       "       1, 0, 1, 1, 1, 0, 1, 1, 1, 0, 1, 0, 1, 0, 0, 0, 0, 1, 0, 0, 1, 1,\n",
       "       1, 0, 1, 1, 1, 0, 0, 1, 0, 0, 0, 0, 1, 0, 1, 0, 0, 1])"
      ]
     },
     "execution_count": 58,
     "metadata": {},
     "output_type": "execute_result"
    }
   ],
   "source": [
    "pred  #Model Prediction values  by using scaling data "
   ]
  },
  {
   "cell_type": "code",
   "execution_count": 59,
   "metadata": {},
   "outputs": [
    {
     "data": {
      "text/plain": [
       "-15074.885429539747"
      ]
     },
     "execution_count": 59,
     "metadata": {},
     "output_type": "execute_result"
    }
   ],
   "source": [
    "means.score(scale_data)"
   ]
  },
  {
   "cell_type": "code",
   "execution_count": 60,
   "metadata": {},
   "outputs": [],
   "source": [
    "Frame=pd.DataFrame(scale_data)"
   ]
  },
  {
   "cell_type": "code",
   "execution_count": 61,
   "metadata": {},
   "outputs": [],
   "source": [
    "Frame['cluster']=pred"
   ]
  },
  {
   "cell_type": "code",
   "execution_count": 62,
   "metadata": {},
   "outputs": [
    {
     "data": {
      "text/plain": [
       "<matplotlib.axes._subplots.AxesSubplot at 0x12482cee588>"
      ]
     },
     "execution_count": 62,
     "metadata": {},
     "output_type": "execute_result"
    },
    {
     "data": {
      "image/png": "[encoded data removed]",
      "text/plain": [
       "<Figure size 432x288 with 1 Axes>"
      ]
     },
     "metadata": {
      "needs_background": "light"
     },
     "output_type": "display_data"
    }
   ],
   "source": [
    "Frame['cluster'].value_counts().plot.bar()"
   ]
  },
  {
   "cell_type": "code",
   "execution_count": 63,
   "metadata": {},
   "outputs": [
    {
     "data": {
      "text/html": [
       "<div>\n",
       "<style scoped>\n",
       "    .dataframe tbody tr th:only-of-type {\n",
       "        vertical-align: middle;\n",
       "    }\n",
       "\n",
       "    .dataframe tbody tr th {\n",
       "        vertical-align: top;\n",
       "    }\n",
       "\n",
       "    .dataframe thead th {\n",
       "        text-align: right;\n",
       "    }\n",
       "</style>\n",
       "<table border=\"1\" class=\"dataframe\">\n",
       "  <thead>\n",
       "    <tr style=\"text-align: right;\">\n",
       "      <th></th>\n",
       "      <th>Python (out of 3)</th>\n",
       "      <th>R Programming (out of 3)</th>\n",
       "      <th>Deep Learning (out of 3)</th>\n",
       "      <th>PHP (out of 3)</th>\n",
       "      <th>MySQL (out of 3)</th>\n",
       "      <th>HTML (out of 3)</th>\n",
       "      <th>CSS (out of 3)</th>\n",
       "      <th>JavaScript (out of 3)</th>\n",
       "      <th>AJAX (out of 3)</th>\n",
       "      <th>Bootstrap (out of 3)</th>\n",
       "      <th>...</th>\n",
       "      <th>Electrical and Electronics Engineering</th>\n",
       "      <th>Electronics and Communication</th>\n",
       "      <th>Electronics and Telecommunication Engineering (ETE)</th>\n",
       "      <th>IT</th>\n",
       "      <th>MCA</th>\n",
       "      <th>Mathematics</th>\n",
       "      <th>Mechanical Engineering</th>\n",
       "      <th>Others_Stream</th>\n",
       "      <th>Statistics</th>\n",
       "      <th>cluster</th>\n",
       "    </tr>\n",
       "  </thead>\n",
       "  <tbody>\n",
       "    <tr>\n",
       "      <th>0</th>\n",
       "      <td>0</td>\n",
       "      <td>2</td>\n",
       "      <td>0</td>\n",
       "      <td>2</td>\n",
       "      <td>0</td>\n",
       "      <td>2</td>\n",
       "      <td>3</td>\n",
       "      <td>2</td>\n",
       "      <td>0</td>\n",
       "      <td>2</td>\n",
       "      <td>...</td>\n",
       "      <td>0</td>\n",
       "      <td>0</td>\n",
       "      <td>0</td>\n",
       "      <td>0</td>\n",
       "      <td>0</td>\n",
       "      <td>1</td>\n",
       "      <td>0</td>\n",
       "      <td>0</td>\n",
       "      <td>0</td>\n",
       "      <td>1</td>\n",
       "    </tr>\n",
       "    <tr>\n",
       "      <th>1</th>\n",
       "      <td>2</td>\n",
       "      <td>0</td>\n",
       "      <td>0</td>\n",
       "      <td>2</td>\n",
       "      <td>2</td>\n",
       "      <td>2</td>\n",
       "      <td>2</td>\n",
       "      <td>2</td>\n",
       "      <td>0</td>\n",
       "      <td>0</td>\n",
       "      <td>...</td>\n",
       "      <td>0</td>\n",
       "      <td>0</td>\n",
       "      <td>0</td>\n",
       "      <td>0</td>\n",
       "      <td>0</td>\n",
       "      <td>0</td>\n",
       "      <td>0</td>\n",
       "      <td>0</td>\n",
       "      <td>0</td>\n",
       "      <td>1</td>\n",
       "    </tr>\n",
       "    <tr>\n",
       "      <th>2</th>\n",
       "      <td>3</td>\n",
       "      <td>0</td>\n",
       "      <td>1</td>\n",
       "      <td>2</td>\n",
       "      <td>2</td>\n",
       "      <td>2</td>\n",
       "      <td>0</td>\n",
       "      <td>2</td>\n",
       "      <td>0</td>\n",
       "      <td>0</td>\n",
       "      <td>...</td>\n",
       "      <td>0</td>\n",
       "      <td>0</td>\n",
       "      <td>0</td>\n",
       "      <td>0</td>\n",
       "      <td>0</td>\n",
       "      <td>0</td>\n",
       "      <td>0</td>\n",
       "      <td>0</td>\n",
       "      <td>0</td>\n",
       "      <td>1</td>\n",
       "    </tr>\n",
       "    <tr>\n",
       "      <th>5</th>\n",
       "      <td>2</td>\n",
       "      <td>0</td>\n",
       "      <td>0</td>\n",
       "      <td>1</td>\n",
       "      <td>0</td>\n",
       "      <td>3</td>\n",
       "      <td>2</td>\n",
       "      <td>1</td>\n",
       "      <td>0</td>\n",
       "      <td>0</td>\n",
       "      <td>...</td>\n",
       "      <td>0</td>\n",
       "      <td>0</td>\n",
       "      <td>0</td>\n",
       "      <td>0</td>\n",
       "      <td>0</td>\n",
       "      <td>0</td>\n",
       "      <td>0</td>\n",
       "      <td>1</td>\n",
       "      <td>0</td>\n",
       "      <td>1</td>\n",
       "    </tr>\n",
       "    <tr>\n",
       "      <th>6</th>\n",
       "      <td>1</td>\n",
       "      <td>0</td>\n",
       "      <td>0</td>\n",
       "      <td>0</td>\n",
       "      <td>0</td>\n",
       "      <td>0</td>\n",
       "      <td>0</td>\n",
       "      <td>0</td>\n",
       "      <td>0</td>\n",
       "      <td>0</td>\n",
       "      <td>...</td>\n",
       "      <td>0</td>\n",
       "      <td>0</td>\n",
       "      <td>0</td>\n",
       "      <td>0</td>\n",
       "      <td>0</td>\n",
       "      <td>0</td>\n",
       "      <td>0</td>\n",
       "      <td>0</td>\n",
       "      <td>0</td>\n",
       "      <td>1</td>\n",
       "    </tr>\n",
       "  </tbody>\n",
       "</table>\n",
       "<p>5 rows × 41 columns</p>\n",
       "</div>"
      ],
      "text/plain": [
       "   Python (out of 3)  R Programming (out of 3)  Deep Learning (out of 3)  \\\n",
       "0                  0                         2                         0   \n",
       "1                  2                         0                         0   \n",
       "2                  3                         0                         1   \n",
       "5                  2                         0                         0   \n",
       "6                  1                         0                         0   \n",
       "\n",
       "   PHP (out of 3)  MySQL (out of 3)  HTML (out of 3)  CSS (out of 3)  \\\n",
       "0               2                 0                2               3   \n",
       "1               2                 2                2               2   \n",
       "2               2                 2                2               0   \n",
       "5               1                 0                3               2   \n",
       "6               0                 0                0               0   \n",
       "\n",
       "   JavaScript (out of 3)  AJAX (out of 3)  Bootstrap (out of 3)  ...  \\\n",
       "0                      2                0                     2  ...   \n",
       "1                      2                0                     0  ...   \n",
       "2                      2                0                     0  ...   \n",
       "5                      1                0                     0  ...   \n",
       "6                      0                0                     0  ...   \n",
       "\n",
       "   Electrical and Electronics Engineering  Electronics and Communication  \\\n",
       "0                                       0                              0   \n",
       "1                                       0                              0   \n",
       "2                                       0                              0   \n",
       "5                                       0                              0   \n",
       "6                                       0                              0   \n",
       "\n",
       "   Electronics and Telecommunication Engineering (ETE)  IT  MCA  Mathematics  \\\n",
       "0                                                  0     0    0            1   \n",
       "1                                                  0     0    0            0   \n",
       "2                                                  0     0    0            0   \n",
       "5                                                  0     0    0            0   \n",
       "6                                                  0     0    0            0   \n",
       "\n",
       "   Mechanical Engineering  Others_Stream  Statistics  cluster  \n",
       "0                       0              0           0        1  \n",
       "1                       0              0           0        1  \n",
       "2                       0              0           0        1  \n",
       "5                       0              1           0        1  \n",
       "6                       0              0           0        1  \n",
       "\n",
       "[5 rows x 41 columns]"
      ]
     },
     "execution_count": 63,
     "metadata": {},
     "output_type": "execute_result"
    }
   ],
   "source": [
    "frame[frame['cluster'] == 1].head() # Web Development Group\n"
   ]
  },
  {
   "cell_type": "code",
   "execution_count": 64,
   "metadata": {},
   "outputs": [
    {
     "data": {
      "text/html": [
       "<div>\n",
       "<style scoped>\n",
       "    .dataframe tbody tr th:only-of-type {\n",
       "        vertical-align: middle;\n",
       "    }\n",
       "\n",
       "    .dataframe tbody tr th {\n",
       "        vertical-align: top;\n",
       "    }\n",
       "\n",
       "    .dataframe thead th {\n",
       "        text-align: right;\n",
       "    }\n",
       "</style>\n",
       "<table border=\"1\" class=\"dataframe\">\n",
       "  <thead>\n",
       "    <tr style=\"text-align: right;\">\n",
       "      <th></th>\n",
       "      <th>Python (out of 3)</th>\n",
       "      <th>R Programming (out of 3)</th>\n",
       "      <th>Deep Learning (out of 3)</th>\n",
       "      <th>PHP (out of 3)</th>\n",
       "      <th>MySQL (out of 3)</th>\n",
       "      <th>HTML (out of 3)</th>\n",
       "      <th>CSS (out of 3)</th>\n",
       "      <th>JavaScript (out of 3)</th>\n",
       "      <th>AJAX (out of 3)</th>\n",
       "      <th>Bootstrap (out of 3)</th>\n",
       "      <th>...</th>\n",
       "      <th>Electrical and Electronics Engineering</th>\n",
       "      <th>Electronics and Communication</th>\n",
       "      <th>Electronics and Telecommunication Engineering (ETE)</th>\n",
       "      <th>IT</th>\n",
       "      <th>MCA</th>\n",
       "      <th>Mathematics</th>\n",
       "      <th>Mechanical Engineering</th>\n",
       "      <th>Others_Stream</th>\n",
       "      <th>Statistics</th>\n",
       "      <th>cluster</th>\n",
       "    </tr>\n",
       "  </thead>\n",
       "  <tbody>\n",
       "    <tr>\n",
       "      <th>3</th>\n",
       "      <td>2</td>\n",
       "      <td>0</td>\n",
       "      <td>2</td>\n",
       "      <td>1</td>\n",
       "      <td>0</td>\n",
       "      <td>2</td>\n",
       "      <td>0</td>\n",
       "      <td>0</td>\n",
       "      <td>0</td>\n",
       "      <td>0</td>\n",
       "      <td>...</td>\n",
       "      <td>0</td>\n",
       "      <td>1</td>\n",
       "      <td>0</td>\n",
       "      <td>0</td>\n",
       "      <td>0</td>\n",
       "      <td>0</td>\n",
       "      <td>0</td>\n",
       "      <td>0</td>\n",
       "      <td>0</td>\n",
       "      <td>0</td>\n",
       "    </tr>\n",
       "    <tr>\n",
       "      <th>4</th>\n",
       "      <td>2</td>\n",
       "      <td>0</td>\n",
       "      <td>0</td>\n",
       "      <td>2</td>\n",
       "      <td>0</td>\n",
       "      <td>2</td>\n",
       "      <td>1</td>\n",
       "      <td>1</td>\n",
       "      <td>0</td>\n",
       "      <td>0</td>\n",
       "      <td>...</td>\n",
       "      <td>0</td>\n",
       "      <td>0</td>\n",
       "      <td>0</td>\n",
       "      <td>0</td>\n",
       "      <td>0</td>\n",
       "      <td>0</td>\n",
       "      <td>0</td>\n",
       "      <td>1</td>\n",
       "      <td>0</td>\n",
       "      <td>0</td>\n",
       "    </tr>\n",
       "    <tr>\n",
       "      <th>7</th>\n",
       "      <td>3</td>\n",
       "      <td>1</td>\n",
       "      <td>0</td>\n",
       "      <td>0</td>\n",
       "      <td>0</td>\n",
       "      <td>2</td>\n",
       "      <td>0</td>\n",
       "      <td>0</td>\n",
       "      <td>0</td>\n",
       "      <td>0</td>\n",
       "      <td>...</td>\n",
       "      <td>0</td>\n",
       "      <td>0</td>\n",
       "      <td>0</td>\n",
       "      <td>0</td>\n",
       "      <td>0</td>\n",
       "      <td>0</td>\n",
       "      <td>0</td>\n",
       "      <td>0</td>\n",
       "      <td>0</td>\n",
       "      <td>0</td>\n",
       "    </tr>\n",
       "    <tr>\n",
       "      <th>8</th>\n",
       "      <td>3</td>\n",
       "      <td>0</td>\n",
       "      <td>0</td>\n",
       "      <td>0</td>\n",
       "      <td>0</td>\n",
       "      <td>2</td>\n",
       "      <td>2</td>\n",
       "      <td>0</td>\n",
       "      <td>0</td>\n",
       "      <td>0</td>\n",
       "      <td>...</td>\n",
       "      <td>0</td>\n",
       "      <td>0</td>\n",
       "      <td>0</td>\n",
       "      <td>0</td>\n",
       "      <td>0</td>\n",
       "      <td>0</td>\n",
       "      <td>0</td>\n",
       "      <td>0</td>\n",
       "      <td>0</td>\n",
       "      <td>0</td>\n",
       "    </tr>\n",
       "    <tr>\n",
       "      <th>11</th>\n",
       "      <td>3</td>\n",
       "      <td>0</td>\n",
       "      <td>2</td>\n",
       "      <td>1</td>\n",
       "      <td>0</td>\n",
       "      <td>2</td>\n",
       "      <td>0</td>\n",
       "      <td>0</td>\n",
       "      <td>0</td>\n",
       "      <td>0</td>\n",
       "      <td>...</td>\n",
       "      <td>0</td>\n",
       "      <td>1</td>\n",
       "      <td>0</td>\n",
       "      <td>0</td>\n",
       "      <td>0</td>\n",
       "      <td>0</td>\n",
       "      <td>0</td>\n",
       "      <td>0</td>\n",
       "      <td>0</td>\n",
       "      <td>0</td>\n",
       "    </tr>\n",
       "  </tbody>\n",
       "</table>\n",
       "<p>5 rows × 41 columns</p>\n",
       "</div>"
      ],
      "text/plain": [
       "    Python (out of 3)  R Programming (out of 3)  Deep Learning (out of 3)  \\\n",
       "3                   2                         0                         2   \n",
       "4                   2                         0                         0   \n",
       "7                   3                         1                         0   \n",
       "8                   3                         0                         0   \n",
       "11                  3                         0                         2   \n",
       "\n",
       "    PHP (out of 3)  MySQL (out of 3)  HTML (out of 3)  CSS (out of 3)  \\\n",
       "3                1                 0                2               0   \n",
       "4                2                 0                2               1   \n",
       "7                0                 0                2               0   \n",
       "8                0                 0                2               2   \n",
       "11               1                 0                2               0   \n",
       "\n",
       "    JavaScript (out of 3)  AJAX (out of 3)  Bootstrap (out of 3)  ...  \\\n",
       "3                       0                0                     0  ...   \n",
       "4                       1                0                     0  ...   \n",
       "7                       0                0                     0  ...   \n",
       "8                       0                0                     0  ...   \n",
       "11                      0                0                     0  ...   \n",
       "\n",
       "    Electrical and Electronics Engineering  Electronics and Communication  \\\n",
       "3                                        0                              1   \n",
       "4                                        0                              0   \n",
       "7                                        0                              0   \n",
       "8                                        0                              0   \n",
       "11                                       0                              1   \n",
       "\n",
       "    Electronics and Telecommunication Engineering (ETE)  IT  MCA  Mathematics  \\\n",
       "3                                                   0     0    0            0   \n",
       "4                                                   0     0    0            0   \n",
       "7                                                   0     0    0            0   \n",
       "8                                                   0     0    0            0   \n",
       "11                                                  0     0    0            0   \n",
       "\n",
       "    Mechanical Engineering  Others_Stream  Statistics  cluster  \n",
       "3                        0              0           0        0  \n",
       "4                        0              1           0        0  \n",
       "7                        0              0           0        0  \n",
       "8                        0              0           0        0  \n",
       "11                       0              0           0        0  \n",
       "\n",
       "[5 rows x 41 columns]"
      ]
     },
     "execution_count": 64,
     "metadata": {},
     "output_type": "execute_result"
    }
   ],
   "source": [
    "frame[frame['cluster'] == 0].head() #Data Scientist Group"
   ]
  },
  {
   "cell_type": "markdown",
   "metadata": {},
   "source": [
    "Based on above results i can say that cluster value 0 represent the Data Scientist and cluster value 1 represent the web Development."
   ]
  },
  {
   "cell_type": "code",
   "execution_count": null,
   "metadata": {},
   "outputs": [],
   "source": []
  }
 ],
 "metadata": {
  "kernelspec": {
   "display_name": "Python 3",
   "language": "python",
   "name": "python3"
  },
  "language_info": {
   "codemirror_mode": {
    "name": "ipython",
    "version": 3
   },
   "file_extension": ".py",
   "mimetype": "text/x-python",
   "name": "python",
   "nbconvert_exporter": "python",
   "pygments_lexer": "ipython3",
   "version": "3.7.3"
  }
 },
 "nbformat": 4,
 "nbformat_minor": 2
}
